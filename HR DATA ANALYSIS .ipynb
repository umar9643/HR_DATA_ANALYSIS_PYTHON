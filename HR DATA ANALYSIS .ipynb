{
 "cells": [
  {
   "cell_type": "code",
   "execution_count": 2,
   "id": "29267133-68e3-4eb3-a9c4-7beb03034e95",
   "metadata": {},
   "outputs": [],
   "source": [
    "#importing neccessary libraries\n",
    "import numpy as np\n",
    "import pandas as pd\n",
    "import matplotlib.pyplot as plt\n",
    "import seaborn as sns"
   ]
  },
  {
   "cell_type": "code",
   "execution_count": 3,
   "id": "f24d9a7d-bdd7-43c9-878a-d69f11e2ba08",
   "metadata": {},
   "outputs": [],
   "source": [
    "#importing data\n",
    "\n",
    "df=pd.read_csv(r\"C:\\Users\\umar\\anaconda files\\PROJECTS\\PYTHON PROJECTS\\HR DATA ANALYSIS\\HR_Data_MNC_Data Science Lovers.csv\")"
   ]
  },
  {
   "cell_type": "code",
   "execution_count": 4,
   "id": "6512ad27-754c-4ce4-be18-ac3a47591161",
   "metadata": {},
   "outputs": [
    {
     "data": {
      "text/html": [
       "<div>\n",
       "<style scoped>\n",
       "    .dataframe tbody tr th:only-of-type {\n",
       "        vertical-align: middle;\n",
       "    }\n",
       "\n",
       "    .dataframe tbody tr th {\n",
       "        vertical-align: top;\n",
       "    }\n",
       "\n",
       "    .dataframe thead th {\n",
       "        text-align: right;\n",
       "    }\n",
       "</style>\n",
       "<table border=\"1\" class=\"dataframe\">\n",
       "  <thead>\n",
       "    <tr style=\"text-align: right;\">\n",
       "      <th></th>\n",
       "      <th>Unnamed: 0</th>\n",
       "      <th>Employee_ID</th>\n",
       "      <th>Full_Name</th>\n",
       "      <th>Department</th>\n",
       "      <th>Job_Title</th>\n",
       "      <th>Hire_Date</th>\n",
       "      <th>Location</th>\n",
       "      <th>Performance_Rating</th>\n",
       "      <th>Experience_Years</th>\n",
       "      <th>Status</th>\n",
       "      <th>Work_Mode</th>\n",
       "      <th>Salary_INR</th>\n",
       "    </tr>\n",
       "  </thead>\n",
       "  <tbody>\n",
       "    <tr>\n",
       "      <th>0</th>\n",
       "      <td>0</td>\n",
       "      <td>EMP0000001</td>\n",
       "      <td>Joshua Nguyen</td>\n",
       "      <td>IT</td>\n",
       "      <td>Software Engineer</td>\n",
       "      <td>2011-08-10</td>\n",
       "      <td>Isaacland, Denmark</td>\n",
       "      <td>5</td>\n",
       "      <td>14</td>\n",
       "      <td>Resigned</td>\n",
       "      <td>On-site</td>\n",
       "      <td>1585363</td>\n",
       "    </tr>\n",
       "    <tr>\n",
       "      <th>1</th>\n",
       "      <td>1</td>\n",
       "      <td>EMP0000002</td>\n",
       "      <td>Julie Williams</td>\n",
       "      <td>Marketing</td>\n",
       "      <td>SEO Specialist</td>\n",
       "      <td>2018-03-02</td>\n",
       "      <td>Anthonyside, Costa Rica</td>\n",
       "      <td>2</td>\n",
       "      <td>7</td>\n",
       "      <td>Active</td>\n",
       "      <td>On-site</td>\n",
       "      <td>847686</td>\n",
       "    </tr>\n",
       "    <tr>\n",
       "      <th>2</th>\n",
       "      <td>2</td>\n",
       "      <td>EMP0000003</td>\n",
       "      <td>Alyssa Martinez</td>\n",
       "      <td>HR</td>\n",
       "      <td>HR Manager</td>\n",
       "      <td>2023-03-20</td>\n",
       "      <td>Port Christinaport, Saudi Arabia</td>\n",
       "      <td>1</td>\n",
       "      <td>2</td>\n",
       "      <td>Active</td>\n",
       "      <td>On-site</td>\n",
       "      <td>1430084</td>\n",
       "    </tr>\n",
       "    <tr>\n",
       "      <th>3</th>\n",
       "      <td>3</td>\n",
       "      <td>EMP0000004</td>\n",
       "      <td>Nicholas Valdez</td>\n",
       "      <td>IT</td>\n",
       "      <td>Software Engineer</td>\n",
       "      <td>2023-10-12</td>\n",
       "      <td>Port Shelbychester, Antigua and Barbuda</td>\n",
       "      <td>1</td>\n",
       "      <td>1</td>\n",
       "      <td>Active</td>\n",
       "      <td>On-site</td>\n",
       "      <td>990689</td>\n",
       "    </tr>\n",
       "    <tr>\n",
       "      <th>4</th>\n",
       "      <td>4</td>\n",
       "      <td>EMP0000005</td>\n",
       "      <td>Joel Hendricks</td>\n",
       "      <td>Operations</td>\n",
       "      <td>Logistics Coordinator</td>\n",
       "      <td>2024-12-09</td>\n",
       "      <td>Lake Kimberly, Palestinian Territory</td>\n",
       "      <td>5</td>\n",
       "      <td>0</td>\n",
       "      <td>Active</td>\n",
       "      <td>On-site</td>\n",
       "      <td>535082</td>\n",
       "    </tr>\n",
       "    <tr>\n",
       "      <th>...</th>\n",
       "      <td>...</td>\n",
       "      <td>...</td>\n",
       "      <td>...</td>\n",
       "      <td>...</td>\n",
       "      <td>...</td>\n",
       "      <td>...</td>\n",
       "      <td>...</td>\n",
       "      <td>...</td>\n",
       "      <td>...</td>\n",
       "      <td>...</td>\n",
       "      <td>...</td>\n",
       "      <td>...</td>\n",
       "    </tr>\n",
       "    <tr>\n",
       "      <th>1999995</th>\n",
       "      <td>1999995</td>\n",
       "      <td>EMP1999996</td>\n",
       "      <td>Cody Russell</td>\n",
       "      <td>Operations</td>\n",
       "      <td>Logistics Coordinator</td>\n",
       "      <td>2010-08-31</td>\n",
       "      <td>Casefurt, Serbia</td>\n",
       "      <td>3</td>\n",
       "      <td>14</td>\n",
       "      <td>Active</td>\n",
       "      <td>Remote</td>\n",
       "      <td>657648</td>\n",
       "    </tr>\n",
       "    <tr>\n",
       "      <th>1999996</th>\n",
       "      <td>1999996</td>\n",
       "      <td>EMP1999997</td>\n",
       "      <td>Tracey Smith</td>\n",
       "      <td>IT</td>\n",
       "      <td>Software Engineer</td>\n",
       "      <td>2021-05-07</td>\n",
       "      <td>Dannyport, Kuwait</td>\n",
       "      <td>3</td>\n",
       "      <td>4</td>\n",
       "      <td>Active</td>\n",
       "      <td>On-site</td>\n",
       "      <td>1030109</td>\n",
       "    </tr>\n",
       "    <tr>\n",
       "      <th>1999997</th>\n",
       "      <td>1999997</td>\n",
       "      <td>EMP1999998</td>\n",
       "      <td>Tracy Lee</td>\n",
       "      <td>Sales</td>\n",
       "      <td>Business Development Manager</td>\n",
       "      <td>2024-05-29</td>\n",
       "      <td>Craighaven, Nigeria</td>\n",
       "      <td>5</td>\n",
       "      <td>1</td>\n",
       "      <td>Active</td>\n",
       "      <td>Remote</td>\n",
       "      <td>1313085</td>\n",
       "    </tr>\n",
       "    <tr>\n",
       "      <th>1999998</th>\n",
       "      <td>1999998</td>\n",
       "      <td>EMP1999999</td>\n",
       "      <td>Michael Roberson</td>\n",
       "      <td>IT</td>\n",
       "      <td>Software Engineer</td>\n",
       "      <td>2023-02-14</td>\n",
       "      <td>Jonathanmouth, Djibouti</td>\n",
       "      <td>4</td>\n",
       "      <td>2</td>\n",
       "      <td>Retired</td>\n",
       "      <td>On-site</td>\n",
       "      <td>1479727</td>\n",
       "    </tr>\n",
       "    <tr>\n",
       "      <th>1999999</th>\n",
       "      <td>1999999</td>\n",
       "      <td>EMP2000000</td>\n",
       "      <td>Angela Lambert</td>\n",
       "      <td>HR</td>\n",
       "      <td>Talent Acquisition Specialist</td>\n",
       "      <td>2020-11-11</td>\n",
       "      <td>Morganchester, Canada</td>\n",
       "      <td>1</td>\n",
       "      <td>4</td>\n",
       "      <td>Active</td>\n",
       "      <td>Remote</td>\n",
       "      <td>993718</td>\n",
       "    </tr>\n",
       "  </tbody>\n",
       "</table>\n",
       "<p>2000000 rows × 12 columns</p>\n",
       "</div>"
      ],
      "text/plain": [
       "         Unnamed: 0 Employee_ID         Full_Name  Department  \\\n",
       "0                 0  EMP0000001     Joshua Nguyen          IT   \n",
       "1                 1  EMP0000002    Julie Williams   Marketing   \n",
       "2                 2  EMP0000003   Alyssa Martinez          HR   \n",
       "3                 3  EMP0000004   Nicholas Valdez          IT   \n",
       "4                 4  EMP0000005    Joel Hendricks  Operations   \n",
       "...             ...         ...               ...         ...   \n",
       "1999995     1999995  EMP1999996      Cody Russell  Operations   \n",
       "1999996     1999996  EMP1999997      Tracey Smith          IT   \n",
       "1999997     1999997  EMP1999998         Tracy Lee       Sales   \n",
       "1999998     1999998  EMP1999999  Michael Roberson          IT   \n",
       "1999999     1999999  EMP2000000    Angela Lambert          HR   \n",
       "\n",
       "                             Job_Title   Hire_Date  \\\n",
       "0                    Software Engineer  2011-08-10   \n",
       "1                       SEO Specialist  2018-03-02   \n",
       "2                           HR Manager  2023-03-20   \n",
       "3                    Software Engineer  2023-10-12   \n",
       "4                Logistics Coordinator  2024-12-09   \n",
       "...                                ...         ...   \n",
       "1999995          Logistics Coordinator  2010-08-31   \n",
       "1999996              Software Engineer  2021-05-07   \n",
       "1999997   Business Development Manager  2024-05-29   \n",
       "1999998              Software Engineer  2023-02-14   \n",
       "1999999  Talent Acquisition Specialist  2020-11-11   \n",
       "\n",
       "                                        Location  Performance_Rating  \\\n",
       "0                             Isaacland, Denmark                   5   \n",
       "1                        Anthonyside, Costa Rica                   2   \n",
       "2               Port Christinaport, Saudi Arabia                   1   \n",
       "3        Port Shelbychester, Antigua and Barbuda                   1   \n",
       "4           Lake Kimberly, Palestinian Territory                   5   \n",
       "...                                          ...                 ...   \n",
       "1999995                         Casefurt, Serbia                   3   \n",
       "1999996                        Dannyport, Kuwait                   3   \n",
       "1999997                      Craighaven, Nigeria                   5   \n",
       "1999998                  Jonathanmouth, Djibouti                   4   \n",
       "1999999                    Morganchester, Canada                   1   \n",
       "\n",
       "         Experience_Years    Status Work_Mode  Salary_INR  \n",
       "0                      14  Resigned   On-site     1585363  \n",
       "1                       7    Active   On-site      847686  \n",
       "2                       2    Active   On-site     1430084  \n",
       "3                       1    Active   On-site      990689  \n",
       "4                       0    Active   On-site      535082  \n",
       "...                   ...       ...       ...         ...  \n",
       "1999995                14    Active    Remote      657648  \n",
       "1999996                 4    Active   On-site     1030109  \n",
       "1999997                 1    Active    Remote     1313085  \n",
       "1999998                 2   Retired   On-site     1479727  \n",
       "1999999                 4    Active    Remote      993718  \n",
       "\n",
       "[2000000 rows x 12 columns]"
      ]
     },
     "execution_count": 4,
     "metadata": {},
     "output_type": "execute_result"
    }
   ],
   "source": [
    "df"
   ]
  },
  {
   "cell_type": "code",
   "execution_count": 5,
   "id": "735778b7-abc0-478a-8c42-ef8435fe046a",
   "metadata": {},
   "outputs": [
    {
     "data": {
      "text/plain": [
       "Unnamed: 0            0\n",
       "Employee_ID           0\n",
       "Full_Name             0\n",
       "Department            0\n",
       "Job_Title             0\n",
       "Hire_Date             0\n",
       "Location              0\n",
       "Performance_Rating    0\n",
       "Experience_Years      0\n",
       "Status                0\n",
       "Work_Mode             0\n",
       "Salary_INR            0\n",
       "dtype: int64"
      ]
     },
     "execution_count": 5,
     "metadata": {},
     "output_type": "execute_result"
    }
   ],
   "source": [
    "df.isnull().sum()\n",
    "# not a single col have null valuee which is a good thing"
   ]
  },
  {
   "cell_type": "code",
   "execution_count": 6,
   "id": "18c3f3c1-90e3-4c21-9296-571a4e75cae1",
   "metadata": {},
   "outputs": [
    {
     "data": {
      "text/html": [
       "<div>\n",
       "<style scoped>\n",
       "    .dataframe tbody tr th:only-of-type {\n",
       "        vertical-align: middle;\n",
       "    }\n",
       "\n",
       "    .dataframe tbody tr th {\n",
       "        vertical-align: top;\n",
       "    }\n",
       "\n",
       "    .dataframe thead th {\n",
       "        text-align: right;\n",
       "    }\n",
       "</style>\n",
       "<table border=\"1\" class=\"dataframe\">\n",
       "  <thead>\n",
       "    <tr style=\"text-align: right;\">\n",
       "      <th></th>\n",
       "      <th>Unnamed: 0</th>\n",
       "      <th>Performance_Rating</th>\n",
       "      <th>Experience_Years</th>\n",
       "      <th>Salary_INR</th>\n",
       "    </tr>\n",
       "  </thead>\n",
       "  <tbody>\n",
       "    <tr>\n",
       "      <th>count</th>\n",
       "      <td>2.000000e+06</td>\n",
       "      <td>2.000000e+06</td>\n",
       "      <td>2.000000e+06</td>\n",
       "      <td>2.000000e+06</td>\n",
       "    </tr>\n",
       "    <tr>\n",
       "      <th>mean</th>\n",
       "      <td>9.999995e+05</td>\n",
       "      <td>3.000148e+00</td>\n",
       "      <td>5.010287e+00</td>\n",
       "      <td>8.968878e+05</td>\n",
       "    </tr>\n",
       "    <tr>\n",
       "      <th>std</th>\n",
       "      <td>5.773504e+05</td>\n",
       "      <td>1.413973e+00</td>\n",
       "      <td>3.608823e+00</td>\n",
       "      <td>4.026103e+05</td>\n",
       "    </tr>\n",
       "    <tr>\n",
       "      <th>min</th>\n",
       "      <td>0.000000e+00</td>\n",
       "      <td>1.000000e+00</td>\n",
       "      <td>0.000000e+00</td>\n",
       "      <td>3.000000e+05</td>\n",
       "    </tr>\n",
       "    <tr>\n",
       "      <th>25%</th>\n",
       "      <td>4.999998e+05</td>\n",
       "      <td>2.000000e+00</td>\n",
       "      <td>2.000000e+00</td>\n",
       "      <td>6.163460e+05</td>\n",
       "    </tr>\n",
       "    <tr>\n",
       "      <th>50%</th>\n",
       "      <td>9.999995e+05</td>\n",
       "      <td>3.000000e+00</td>\n",
       "      <td>5.000000e+00</td>\n",
       "      <td>8.110265e+05</td>\n",
       "    </tr>\n",
       "    <tr>\n",
       "      <th>75%</th>\n",
       "      <td>1.499999e+06</td>\n",
       "      <td>4.000000e+00</td>\n",
       "      <td>8.000000e+00</td>\n",
       "      <td>1.073745e+06</td>\n",
       "    </tr>\n",
       "    <tr>\n",
       "      <th>max</th>\n",
       "      <td>1.999999e+06</td>\n",
       "      <td>5.000000e+00</td>\n",
       "      <td>1.500000e+01</td>\n",
       "      <td>2.999976e+06</td>\n",
       "    </tr>\n",
       "  </tbody>\n",
       "</table>\n",
       "</div>"
      ],
      "text/plain": [
       "         Unnamed: 0  Performance_Rating  Experience_Years    Salary_INR\n",
       "count  2.000000e+06        2.000000e+06      2.000000e+06  2.000000e+06\n",
       "mean   9.999995e+05        3.000148e+00      5.010287e+00  8.968878e+05\n",
       "std    5.773504e+05        1.413973e+00      3.608823e+00  4.026103e+05\n",
       "min    0.000000e+00        1.000000e+00      0.000000e+00  3.000000e+05\n",
       "25%    4.999998e+05        2.000000e+00      2.000000e+00  6.163460e+05\n",
       "50%    9.999995e+05        3.000000e+00      5.000000e+00  8.110265e+05\n",
       "75%    1.499999e+06        4.000000e+00      8.000000e+00  1.073745e+06\n",
       "max    1.999999e+06        5.000000e+00      1.500000e+01  2.999976e+06"
      ]
     },
     "execution_count": 6,
     "metadata": {},
     "output_type": "execute_result"
    }
   ],
   "source": [
    "df.describe()"
   ]
  },
  {
   "cell_type": "code",
   "execution_count": 7,
   "id": "7ccee77e-b943-42e4-b5fa-a7143a39765b",
   "metadata": {},
   "outputs": [
    {
     "name": "stdout",
     "output_type": "stream",
     "text": [
      "<class 'pandas.core.frame.DataFrame'>\n",
      "RangeIndex: 2000000 entries, 0 to 1999999\n",
      "Data columns (total 12 columns):\n",
      " #   Column              Dtype \n",
      "---  ------              ----- \n",
      " 0   Unnamed: 0          int64 \n",
      " 1   Employee_ID         object\n",
      " 2   Full_Name           object\n",
      " 3   Department          object\n",
      " 4   Job_Title           object\n",
      " 5   Hire_Date           object\n",
      " 6   Location            object\n",
      " 7   Performance_Rating  int64 \n",
      " 8   Experience_Years    int64 \n",
      " 9   Status              object\n",
      " 10  Work_Mode           object\n",
      " 11  Salary_INR          int64 \n",
      "dtypes: int64(4), object(8)\n",
      "memory usage: 183.1+ MB\n"
     ]
    }
   ],
   "source": [
    "#Gettting basic info about the data\n",
    "\n",
    "df.info()"
   ]
  },
  {
   "cell_type": "code",
   "execution_count": 8,
   "id": "48bb35c4-c1a2-436d-b4c3-e6b3148e515c",
   "metadata": {},
   "outputs": [],
   "source": [
    "# Removing the unnamed column\n",
    "\n",
    "df.drop(\"Unnamed: 0\",axis=1,inplace=True)"
   ]
  },
  {
   "cell_type": "code",
   "execution_count": 9,
   "id": "180eb427-db5c-4bec-99f3-ab5b973c9832",
   "metadata": {},
   "outputs": [
    {
     "data": {
      "text/html": [
       "<div>\n",
       "<style scoped>\n",
       "    .dataframe tbody tr th:only-of-type {\n",
       "        vertical-align: middle;\n",
       "    }\n",
       "\n",
       "    .dataframe tbody tr th {\n",
       "        vertical-align: top;\n",
       "    }\n",
       "\n",
       "    .dataframe thead th {\n",
       "        text-align: right;\n",
       "    }\n",
       "</style>\n",
       "<table border=\"1\" class=\"dataframe\">\n",
       "  <thead>\n",
       "    <tr style=\"text-align: right;\">\n",
       "      <th></th>\n",
       "      <th>Employee_ID</th>\n",
       "      <th>Full_Name</th>\n",
       "      <th>Department</th>\n",
       "      <th>Job_Title</th>\n",
       "      <th>Hire_Date</th>\n",
       "      <th>Location</th>\n",
       "      <th>Performance_Rating</th>\n",
       "      <th>Experience_Years</th>\n",
       "      <th>Status</th>\n",
       "      <th>Work_Mode</th>\n",
       "      <th>Salary_INR</th>\n",
       "    </tr>\n",
       "  </thead>\n",
       "  <tbody>\n",
       "    <tr>\n",
       "      <th>0</th>\n",
       "      <td>EMP0000001</td>\n",
       "      <td>Joshua Nguyen</td>\n",
       "      <td>IT</td>\n",
       "      <td>Software Engineer</td>\n",
       "      <td>2011-08-10</td>\n",
       "      <td>Isaacland, Denmark</td>\n",
       "      <td>5</td>\n",
       "      <td>14</td>\n",
       "      <td>Resigned</td>\n",
       "      <td>On-site</td>\n",
       "      <td>1585363</td>\n",
       "    </tr>\n",
       "    <tr>\n",
       "      <th>1</th>\n",
       "      <td>EMP0000002</td>\n",
       "      <td>Julie Williams</td>\n",
       "      <td>Marketing</td>\n",
       "      <td>SEO Specialist</td>\n",
       "      <td>2018-03-02</td>\n",
       "      <td>Anthonyside, Costa Rica</td>\n",
       "      <td>2</td>\n",
       "      <td>7</td>\n",
       "      <td>Active</td>\n",
       "      <td>On-site</td>\n",
       "      <td>847686</td>\n",
       "    </tr>\n",
       "    <tr>\n",
       "      <th>2</th>\n",
       "      <td>EMP0000003</td>\n",
       "      <td>Alyssa Martinez</td>\n",
       "      <td>HR</td>\n",
       "      <td>HR Manager</td>\n",
       "      <td>2023-03-20</td>\n",
       "      <td>Port Christinaport, Saudi Arabia</td>\n",
       "      <td>1</td>\n",
       "      <td>2</td>\n",
       "      <td>Active</td>\n",
       "      <td>On-site</td>\n",
       "      <td>1430084</td>\n",
       "    </tr>\n",
       "    <tr>\n",
       "      <th>3</th>\n",
       "      <td>EMP0000004</td>\n",
       "      <td>Nicholas Valdez</td>\n",
       "      <td>IT</td>\n",
       "      <td>Software Engineer</td>\n",
       "      <td>2023-10-12</td>\n",
       "      <td>Port Shelbychester, Antigua and Barbuda</td>\n",
       "      <td>1</td>\n",
       "      <td>1</td>\n",
       "      <td>Active</td>\n",
       "      <td>On-site</td>\n",
       "      <td>990689</td>\n",
       "    </tr>\n",
       "    <tr>\n",
       "      <th>4</th>\n",
       "      <td>EMP0000005</td>\n",
       "      <td>Joel Hendricks</td>\n",
       "      <td>Operations</td>\n",
       "      <td>Logistics Coordinator</td>\n",
       "      <td>2024-12-09</td>\n",
       "      <td>Lake Kimberly, Palestinian Territory</td>\n",
       "      <td>5</td>\n",
       "      <td>0</td>\n",
       "      <td>Active</td>\n",
       "      <td>On-site</td>\n",
       "      <td>535082</td>\n",
       "    </tr>\n",
       "    <tr>\n",
       "      <th>...</th>\n",
       "      <td>...</td>\n",
       "      <td>...</td>\n",
       "      <td>...</td>\n",
       "      <td>...</td>\n",
       "      <td>...</td>\n",
       "      <td>...</td>\n",
       "      <td>...</td>\n",
       "      <td>...</td>\n",
       "      <td>...</td>\n",
       "      <td>...</td>\n",
       "      <td>...</td>\n",
       "    </tr>\n",
       "    <tr>\n",
       "      <th>1999995</th>\n",
       "      <td>EMP1999996</td>\n",
       "      <td>Cody Russell</td>\n",
       "      <td>Operations</td>\n",
       "      <td>Logistics Coordinator</td>\n",
       "      <td>2010-08-31</td>\n",
       "      <td>Casefurt, Serbia</td>\n",
       "      <td>3</td>\n",
       "      <td>14</td>\n",
       "      <td>Active</td>\n",
       "      <td>Remote</td>\n",
       "      <td>657648</td>\n",
       "    </tr>\n",
       "    <tr>\n",
       "      <th>1999996</th>\n",
       "      <td>EMP1999997</td>\n",
       "      <td>Tracey Smith</td>\n",
       "      <td>IT</td>\n",
       "      <td>Software Engineer</td>\n",
       "      <td>2021-05-07</td>\n",
       "      <td>Dannyport, Kuwait</td>\n",
       "      <td>3</td>\n",
       "      <td>4</td>\n",
       "      <td>Active</td>\n",
       "      <td>On-site</td>\n",
       "      <td>1030109</td>\n",
       "    </tr>\n",
       "    <tr>\n",
       "      <th>1999997</th>\n",
       "      <td>EMP1999998</td>\n",
       "      <td>Tracy Lee</td>\n",
       "      <td>Sales</td>\n",
       "      <td>Business Development Manager</td>\n",
       "      <td>2024-05-29</td>\n",
       "      <td>Craighaven, Nigeria</td>\n",
       "      <td>5</td>\n",
       "      <td>1</td>\n",
       "      <td>Active</td>\n",
       "      <td>Remote</td>\n",
       "      <td>1313085</td>\n",
       "    </tr>\n",
       "    <tr>\n",
       "      <th>1999998</th>\n",
       "      <td>EMP1999999</td>\n",
       "      <td>Michael Roberson</td>\n",
       "      <td>IT</td>\n",
       "      <td>Software Engineer</td>\n",
       "      <td>2023-02-14</td>\n",
       "      <td>Jonathanmouth, Djibouti</td>\n",
       "      <td>4</td>\n",
       "      <td>2</td>\n",
       "      <td>Retired</td>\n",
       "      <td>On-site</td>\n",
       "      <td>1479727</td>\n",
       "    </tr>\n",
       "    <tr>\n",
       "      <th>1999999</th>\n",
       "      <td>EMP2000000</td>\n",
       "      <td>Angela Lambert</td>\n",
       "      <td>HR</td>\n",
       "      <td>Talent Acquisition Specialist</td>\n",
       "      <td>2020-11-11</td>\n",
       "      <td>Morganchester, Canada</td>\n",
       "      <td>1</td>\n",
       "      <td>4</td>\n",
       "      <td>Active</td>\n",
       "      <td>Remote</td>\n",
       "      <td>993718</td>\n",
       "    </tr>\n",
       "  </tbody>\n",
       "</table>\n",
       "<p>2000000 rows × 11 columns</p>\n",
       "</div>"
      ],
      "text/plain": [
       "        Employee_ID         Full_Name  Department  \\\n",
       "0        EMP0000001     Joshua Nguyen          IT   \n",
       "1        EMP0000002    Julie Williams   Marketing   \n",
       "2        EMP0000003   Alyssa Martinez          HR   \n",
       "3        EMP0000004   Nicholas Valdez          IT   \n",
       "4        EMP0000005    Joel Hendricks  Operations   \n",
       "...             ...               ...         ...   \n",
       "1999995  EMP1999996      Cody Russell  Operations   \n",
       "1999996  EMP1999997      Tracey Smith          IT   \n",
       "1999997  EMP1999998         Tracy Lee       Sales   \n",
       "1999998  EMP1999999  Michael Roberson          IT   \n",
       "1999999  EMP2000000    Angela Lambert          HR   \n",
       "\n",
       "                             Job_Title   Hire_Date  \\\n",
       "0                    Software Engineer  2011-08-10   \n",
       "1                       SEO Specialist  2018-03-02   \n",
       "2                           HR Manager  2023-03-20   \n",
       "3                    Software Engineer  2023-10-12   \n",
       "4                Logistics Coordinator  2024-12-09   \n",
       "...                                ...         ...   \n",
       "1999995          Logistics Coordinator  2010-08-31   \n",
       "1999996              Software Engineer  2021-05-07   \n",
       "1999997   Business Development Manager  2024-05-29   \n",
       "1999998              Software Engineer  2023-02-14   \n",
       "1999999  Talent Acquisition Specialist  2020-11-11   \n",
       "\n",
       "                                        Location  Performance_Rating  \\\n",
       "0                             Isaacland, Denmark                   5   \n",
       "1                        Anthonyside, Costa Rica                   2   \n",
       "2               Port Christinaport, Saudi Arabia                   1   \n",
       "3        Port Shelbychester, Antigua and Barbuda                   1   \n",
       "4           Lake Kimberly, Palestinian Territory                   5   \n",
       "...                                          ...                 ...   \n",
       "1999995                         Casefurt, Serbia                   3   \n",
       "1999996                        Dannyport, Kuwait                   3   \n",
       "1999997                      Craighaven, Nigeria                   5   \n",
       "1999998                  Jonathanmouth, Djibouti                   4   \n",
       "1999999                    Morganchester, Canada                   1   \n",
       "\n",
       "         Experience_Years    Status Work_Mode  Salary_INR  \n",
       "0                      14  Resigned   On-site     1585363  \n",
       "1                       7    Active   On-site      847686  \n",
       "2                       2    Active   On-site     1430084  \n",
       "3                       1    Active   On-site      990689  \n",
       "4                       0    Active   On-site      535082  \n",
       "...                   ...       ...       ...         ...  \n",
       "1999995                14    Active    Remote      657648  \n",
       "1999996                 4    Active   On-site     1030109  \n",
       "1999997                 1    Active    Remote     1313085  \n",
       "1999998                 2   Retired   On-site     1479727  \n",
       "1999999                 4    Active    Remote      993718  \n",
       "\n",
       "[2000000 rows x 11 columns]"
      ]
     },
     "execution_count": 9,
     "metadata": {},
     "output_type": "execute_result"
    }
   ],
   "source": [
    "df"
   ]
  },
  {
   "cell_type": "code",
   "execution_count": 10,
   "id": "ff8e3113-935a-4752-bbd1-d17875317bbf",
   "metadata": {},
   "outputs": [],
   "source": [
    "#Changing the Hire_Date  col into data time format\n",
    "\n",
    "df[\"Hire_Date\"]=pd.to_datetime(df[\"Hire_Date\"])"
   ]
  },
  {
   "cell_type": "code",
   "execution_count": 11,
   "id": "e89e6e18-a0e9-4ce6-97f4-a197fdc8daaf",
   "metadata": {},
   "outputs": [
    {
     "name": "stdout",
     "output_type": "stream",
     "text": [
      "<class 'pandas.core.frame.DataFrame'>\n",
      "RangeIndex: 2000000 entries, 0 to 1999999\n",
      "Data columns (total 11 columns):\n",
      " #   Column              Dtype         \n",
      "---  ------              -----         \n",
      " 0   Employee_ID         object        \n",
      " 1   Full_Name           object        \n",
      " 2   Department          object        \n",
      " 3   Job_Title           object        \n",
      " 4   Hire_Date           datetime64[ns]\n",
      " 5   Location            object        \n",
      " 6   Performance_Rating  int64         \n",
      " 7   Experience_Years    int64         \n",
      " 8   Status              object        \n",
      " 9   Work_Mode           object        \n",
      " 10  Salary_INR          int64         \n",
      "dtypes: datetime64[ns](1), int64(3), object(7)\n",
      "memory usage: 167.8+ MB\n"
     ]
    }
   ],
   "source": [
    "df.info()"
   ]
  },
  {
   "cell_type": "markdown",
   "id": "8ecf5253-9aa3-47e6-86f2-c30aae1d4739",
   "metadata": {},
   "source": [
    "### exploring Performance_Rating col"
   ]
  },
  {
   "cell_type": "code",
   "execution_count": 12,
   "id": "1e51368d-009e-49f0-98e9-aa8ece52d630",
   "metadata": {},
   "outputs": [
    {
     "data": {
      "text/plain": [
       "array([5, 2, 1, 4, 3])"
      ]
     },
     "execution_count": 12,
     "metadata": {},
     "output_type": "execute_result"
    }
   ],
   "source": [
    "#exploring Performance_Rating col\n",
    "\n",
    "df[\"Performance_Rating\"].unique()"
   ]
  },
  {
   "cell_type": "code",
   "execution_count": 13,
   "id": "09e80a69-dcef-4d83-9009-33b4c214277e",
   "metadata": {},
   "outputs": [
    {
     "data": {
      "text/plain": [
       "Performance_Rating\n",
       "4    400529\n",
       "2    400174\n",
       "3    399814\n",
       "1    399756\n",
       "5    399727\n",
       "Name: count, dtype: int64"
      ]
     },
     "execution_count": 13,
     "metadata": {},
     "output_type": "execute_result"
    }
   ],
   "source": [
    "df[\"Performance_Rating\"].value_counts()"
   ]
  },
  {
   "cell_type": "code",
   "execution_count": 14,
   "id": "89408192-48c0-4498-917d-4f330335449f",
   "metadata": {},
   "outputs": [
    {
     "data": {
      "text/plain": [
       "np.float64(3.0001485)"
      ]
     },
     "execution_count": 14,
     "metadata": {},
     "output_type": "execute_result"
    }
   ],
   "source": [
    "df[\"Performance_Rating\"].mean()"
   ]
  },
  {
   "cell_type": "markdown",
   "id": "564507f1-49cb-43c5-bcc7-ec90fc770644",
   "metadata": {},
   "source": [
    "### exploring Experience_Years    "
   ]
  },
  {
   "cell_type": "code",
   "execution_count": 15,
   "id": "2081f36b-ef09-4e43-827b-33deea529d65",
   "metadata": {},
   "outputs": [
    {
     "data": {
      "text/plain": [
       "16"
      ]
     },
     "execution_count": 15,
     "metadata": {},
     "output_type": "execute_result"
    }
   ],
   "source": [
    "df[\"Experience_Years\"].nunique()"
   ]
  },
  {
   "cell_type": "code",
   "execution_count": 16,
   "id": "7d53ce2a-fb5d-454d-8df6-f8d102aeff8f",
   "metadata": {},
   "outputs": [
    {
     "data": {
      "text/plain": [
       "array([14,  7,  2,  1,  0,  4,  9,  5,  6,  8,  3, 10, 11, 12, 13, 15])"
      ]
     },
     "execution_count": 16,
     "metadata": {},
     "output_type": "execute_result"
    }
   ],
   "source": [
    "df[\"Experience_Years\"].unique()"
   ]
  },
  {
   "cell_type": "code",
   "execution_count": 17,
   "id": "f1694aef-9ce0-48b7-891c-5cd369829373",
   "metadata": {},
   "outputs": [
    {
     "data": {
      "text/plain": [
       "Experience_Years\n",
       "3     200522\n",
       "2     199924\n",
       "4     199866\n",
       "1     199162\n",
       "0     198775\n",
       "6     160410\n",
       "9     160223\n",
       "8     160212\n",
       "5     160112\n",
       "7     159005\n",
       "10     41209\n",
       "13     40149\n",
       "11     40146\n",
       "14     40005\n",
       "12     39709\n",
       "15       571\n",
       "Name: count, dtype: int64"
      ]
     },
     "execution_count": 17,
     "metadata": {},
     "output_type": "execute_result"
    }
   ],
   "source": [
    "df[\"Experience_Years\"].value_counts()"
   ]
  },
  {
   "cell_type": "code",
   "execution_count": 18,
   "id": "8ff45307-9a73-4749-956c-13700e3f6ed7",
   "metadata": {},
   "outputs": [
    {
     "data": {
      "text/plain": [
       "np.float64(5.010287)"
      ]
     },
     "execution_count": 18,
     "metadata": {},
     "output_type": "execute_result"
    }
   ],
   "source": [
    "df[\"Experience_Years\"].mean()"
   ]
  },
  {
   "cell_type": "code",
   "execution_count": 19,
   "id": "3cb23ffe-cc34-40e9-8cc9-d17eeb8d830b",
   "metadata": {},
   "outputs": [
    {
     "data": {
      "text/plain": [
       "np.int64(0)"
      ]
     },
     "execution_count": 19,
     "metadata": {},
     "output_type": "execute_result"
    }
   ],
   "source": [
    "df[\"Experience_Years\"].min()"
   ]
  },
  {
   "cell_type": "code",
   "execution_count": 20,
   "id": "8c73327d-038c-4af7-afac-6094884f831e",
   "metadata": {},
   "outputs": [
    {
     "data": {
      "text/plain": [
       "np.int64(15)"
      ]
     },
     "execution_count": 20,
     "metadata": {},
     "output_type": "execute_result"
    }
   ],
   "source": [
    "df[\"Experience_Years\"].max()"
   ]
  },
  {
   "cell_type": "code",
   "execution_count": 21,
   "id": "2adf1ff8-efac-4ac6-84d8-8d9149427136",
   "metadata": {},
   "outputs": [
    {
     "data": {
      "text/plain": [
       "<BarContainer object of 16 artists>"
      ]
     },
     "execution_count": 21,
     "metadata": {},
     "output_type": "execute_result"
    },
    {
     "data": {
      "image/png": "[encoded data removed]",
      "text/plain": [
       "<Figure size 640x480 with 1 Axes>"
      ]
     },
     "metadata": {},
     "output_type": "display_data"
    }
   ],
   "source": [
    "# showing this into a bar plot\n",
    "\n",
    "plt.barh(df[\"Experience_Years\"].unique(),df[\"Experience_Years\"].value_counts())"
   ]
  },
  {
   "cell_type": "code",
   "execution_count": 22,
   "id": "56a6af96-6385-4ff8-8474-8a330a5c3463",
   "metadata": {},
   "outputs": [
    {
     "data": {
      "image/png": "[encoded data removed]",
      "text/plain": [
       "<Figure size 640x480 with 1 Axes>"
      ]
     },
     "metadata": {},
     "output_type": "display_data"
    }
   ],
   "source": [
    "sns.countplot(x=\"Experience_Years\",data=df,color=\"red\")\n",
    "plt.title(\"count of experience\")\n",
    "plt.xlabel(\"Experience Years\")\n",
    "plt.ylabel(\"Count\")\n",
    "plt.show()"
   ]
  },
  {
   "cell_type": "code",
   "execution_count": null,
   "id": "a49c0796-f945-4525-8589-437713e1d163",
   "metadata": {},
   "outputs": [],
   "source": []
  },
  {
   "cell_type": "code",
   "execution_count": 23,
   "id": "1cbbcef0-239b-4a01-bab6-ead5b3e8204c",
   "metadata": {},
   "outputs": [
    {
     "data": {
      "text/html": [
       "<div>\n",
       "<style scoped>\n",
       "    .dataframe tbody tr th:only-of-type {\n",
       "        vertical-align: middle;\n",
       "    }\n",
       "\n",
       "    .dataframe tbody tr th {\n",
       "        vertical-align: top;\n",
       "    }\n",
       "\n",
       "    .dataframe thead th {\n",
       "        text-align: right;\n",
       "    }\n",
       "</style>\n",
       "<table border=\"1\" class=\"dataframe\">\n",
       "  <thead>\n",
       "    <tr style=\"text-align: right;\">\n",
       "      <th></th>\n",
       "      <th>Employee_ID</th>\n",
       "      <th>Full_Name</th>\n",
       "      <th>Department</th>\n",
       "      <th>Job_Title</th>\n",
       "      <th>Location</th>\n",
       "      <th>Status</th>\n",
       "      <th>Work_Mode</th>\n",
       "    </tr>\n",
       "  </thead>\n",
       "  <tbody>\n",
       "    <tr>\n",
       "      <th>0</th>\n",
       "      <td>EMP0000001</td>\n",
       "      <td>Joshua Nguyen</td>\n",
       "      <td>IT</td>\n",
       "      <td>Software Engineer</td>\n",
       "      <td>Isaacland, Denmark</td>\n",
       "      <td>Resigned</td>\n",
       "      <td>On-site</td>\n",
       "    </tr>\n",
       "    <tr>\n",
       "      <th>1</th>\n",
       "      <td>EMP0000002</td>\n",
       "      <td>Julie Williams</td>\n",
       "      <td>Marketing</td>\n",
       "      <td>SEO Specialist</td>\n",
       "      <td>Anthonyside, Costa Rica</td>\n",
       "      <td>Active</td>\n",
       "      <td>On-site</td>\n",
       "    </tr>\n",
       "    <tr>\n",
       "      <th>2</th>\n",
       "      <td>EMP0000003</td>\n",
       "      <td>Alyssa Martinez</td>\n",
       "      <td>HR</td>\n",
       "      <td>HR Manager</td>\n",
       "      <td>Port Christinaport, Saudi Arabia</td>\n",
       "      <td>Active</td>\n",
       "      <td>On-site</td>\n",
       "    </tr>\n",
       "    <tr>\n",
       "      <th>3</th>\n",
       "      <td>EMP0000004</td>\n",
       "      <td>Nicholas Valdez</td>\n",
       "      <td>IT</td>\n",
       "      <td>Software Engineer</td>\n",
       "      <td>Port Shelbychester, Antigua and Barbuda</td>\n",
       "      <td>Active</td>\n",
       "      <td>On-site</td>\n",
       "    </tr>\n",
       "    <tr>\n",
       "      <th>4</th>\n",
       "      <td>EMP0000005</td>\n",
       "      <td>Joel Hendricks</td>\n",
       "      <td>Operations</td>\n",
       "      <td>Logistics Coordinator</td>\n",
       "      <td>Lake Kimberly, Palestinian Territory</td>\n",
       "      <td>Active</td>\n",
       "      <td>On-site</td>\n",
       "    </tr>\n",
       "  </tbody>\n",
       "</table>\n",
       "</div>"
      ],
      "text/plain": [
       "  Employee_ID        Full_Name  Department              Job_Title  \\\n",
       "0  EMP0000001    Joshua Nguyen          IT      Software Engineer   \n",
       "1  EMP0000002   Julie Williams   Marketing         SEO Specialist   \n",
       "2  EMP0000003  Alyssa Martinez          HR             HR Manager   \n",
       "3  EMP0000004  Nicholas Valdez          IT      Software Engineer   \n",
       "4  EMP0000005   Joel Hendricks  Operations  Logistics Coordinator   \n",
       "\n",
       "                                  Location    Status Work_Mode  \n",
       "0                       Isaacland, Denmark  Resigned   On-site  \n",
       "1                  Anthonyside, Costa Rica    Active   On-site  \n",
       "2         Port Christinaport, Saudi Arabia    Active   On-site  \n",
       "3  Port Shelbychester, Antigua and Barbuda    Active   On-site  \n",
       "4     Lake Kimberly, Palestinian Territory    Active   On-site  "
      ]
     },
     "execution_count": 23,
     "metadata": {},
     "output_type": "execute_result"
    }
   ],
   "source": [
    "#considering the col having dtypes only object\n",
    "\n",
    "df.select_dtypes(include=\"object\").head()"
   ]
  },
  {
   "cell_type": "code",
   "execution_count": 24,
   "id": "6f5a0cff-c685-45c3-a96d-2bab4d77ed2f",
   "metadata": {},
   "outputs": [
    {
     "data": {
      "text/html": [
       "<div>\n",
       "<style scoped>\n",
       "    .dataframe tbody tr th:only-of-type {\n",
       "        vertical-align: middle;\n",
       "    }\n",
       "\n",
       "    .dataframe tbody tr th {\n",
       "        vertical-align: top;\n",
       "    }\n",
       "\n",
       "    .dataframe thead th {\n",
       "        text-align: right;\n",
       "    }\n",
       "</style>\n",
       "<table border=\"1\" class=\"dataframe\">\n",
       "  <thead>\n",
       "    <tr style=\"text-align: right;\">\n",
       "      <th></th>\n",
       "      <th>Performance_Rating</th>\n",
       "      <th>Experience_Years</th>\n",
       "      <th>Salary_INR</th>\n",
       "    </tr>\n",
       "  </thead>\n",
       "  <tbody>\n",
       "    <tr>\n",
       "      <th>0</th>\n",
       "      <td>5</td>\n",
       "      <td>14</td>\n",
       "      <td>1585363</td>\n",
       "    </tr>\n",
       "    <tr>\n",
       "      <th>1</th>\n",
       "      <td>2</td>\n",
       "      <td>7</td>\n",
       "      <td>847686</td>\n",
       "    </tr>\n",
       "    <tr>\n",
       "      <th>2</th>\n",
       "      <td>1</td>\n",
       "      <td>2</td>\n",
       "      <td>1430084</td>\n",
       "    </tr>\n",
       "    <tr>\n",
       "      <th>3</th>\n",
       "      <td>1</td>\n",
       "      <td>1</td>\n",
       "      <td>990689</td>\n",
       "    </tr>\n",
       "    <tr>\n",
       "      <th>4</th>\n",
       "      <td>5</td>\n",
       "      <td>0</td>\n",
       "      <td>535082</td>\n",
       "    </tr>\n",
       "  </tbody>\n",
       "</table>\n",
       "</div>"
      ],
      "text/plain": [
       "   Performance_Rating  Experience_Years  Salary_INR\n",
       "0                   5                14     1585363\n",
       "1                   2                 7      847686\n",
       "2                   1                 2     1430084\n",
       "3                   1                 1      990689\n",
       "4                   5                 0      535082"
      ]
     },
     "execution_count": 24,
     "metadata": {},
     "output_type": "execute_result"
    }
   ],
   "source": [
    "#considering the col having dtypes only int\n",
    "\n",
    "df.select_dtypes(include=\"int\").head()"
   ]
  },
  {
   "cell_type": "code",
   "execution_count": 25,
   "id": "9ea068f0-ec82-4592-8c3b-ad6530d05762",
   "metadata": {},
   "outputs": [
    {
     "data": {
      "text/html": [
       "<div>\n",
       "<style scoped>\n",
       "    .dataframe tbody tr th:only-of-type {\n",
       "        vertical-align: middle;\n",
       "    }\n",
       "\n",
       "    .dataframe tbody tr th {\n",
       "        vertical-align: top;\n",
       "    }\n",
       "\n",
       "    .dataframe thead th {\n",
       "        text-align: right;\n",
       "    }\n",
       "</style>\n",
       "<table border=\"1\" class=\"dataframe\">\n",
       "  <thead>\n",
       "    <tr style=\"text-align: right;\">\n",
       "      <th></th>\n",
       "      <th>Hire_Date</th>\n",
       "    </tr>\n",
       "  </thead>\n",
       "  <tbody>\n",
       "    <tr>\n",
       "      <th>0</th>\n",
       "      <td>2011-08-10</td>\n",
       "    </tr>\n",
       "    <tr>\n",
       "      <th>1</th>\n",
       "      <td>2018-03-02</td>\n",
       "    </tr>\n",
       "    <tr>\n",
       "      <th>2</th>\n",
       "      <td>2023-03-20</td>\n",
       "    </tr>\n",
       "    <tr>\n",
       "      <th>3</th>\n",
       "      <td>2023-10-12</td>\n",
       "    </tr>\n",
       "    <tr>\n",
       "      <th>4</th>\n",
       "      <td>2024-12-09</td>\n",
       "    </tr>\n",
       "  </tbody>\n",
       "</table>\n",
       "</div>"
      ],
      "text/plain": [
       "   Hire_Date\n",
       "0 2011-08-10\n",
       "1 2018-03-02\n",
       "2 2023-03-20\n",
       "3 2023-10-12\n",
       "4 2024-12-09"
      ]
     },
     "execution_count": 25,
     "metadata": {},
     "output_type": "execute_result"
    }
   ],
   "source": [
    "df.select_dtypes(include=\"datetime\").head()"
   ]
  },
  {
   "cell_type": "markdown",
   "id": "bd4e5630-bad7-4a15-8a5c-1b07cecc18c9",
   "metadata": {},
   "source": [
    "## Q-1)What is the distribution of employee status()?"
   ]
  },
  {
   "cell_type": "code",
   "execution_count": 26,
   "id": "910bf3cd-a36d-4feb-afdf-a7b95a649437",
   "metadata": {},
   "outputs": [
    {
     "data": {
      "text/html": [
       "<div>\n",
       "<style scoped>\n",
       "    .dataframe tbody tr th:only-of-type {\n",
       "        vertical-align: middle;\n",
       "    }\n",
       "\n",
       "    .dataframe tbody tr th {\n",
       "        vertical-align: top;\n",
       "    }\n",
       "\n",
       "    .dataframe thead th {\n",
       "        text-align: right;\n",
       "    }\n",
       "</style>\n",
       "<table border=\"1\" class=\"dataframe\">\n",
       "  <thead>\n",
       "    <tr style=\"text-align: right;\">\n",
       "      <th></th>\n",
       "      <th>Employee_ID</th>\n",
       "      <th>Full_Name</th>\n",
       "      <th>Department</th>\n",
       "      <th>Job_Title</th>\n",
       "      <th>Hire_Date</th>\n",
       "      <th>Location</th>\n",
       "      <th>Performance_Rating</th>\n",
       "      <th>Experience_Years</th>\n",
       "      <th>Status</th>\n",
       "      <th>Work_Mode</th>\n",
       "      <th>Salary_INR</th>\n",
       "    </tr>\n",
       "  </thead>\n",
       "  <tbody>\n",
       "    <tr>\n",
       "      <th>0</th>\n",
       "      <td>EMP0000001</td>\n",
       "      <td>Joshua Nguyen</td>\n",
       "      <td>IT</td>\n",
       "      <td>Software Engineer</td>\n",
       "      <td>2011-08-10</td>\n",
       "      <td>Isaacland, Denmark</td>\n",
       "      <td>5</td>\n",
       "      <td>14</td>\n",
       "      <td>Resigned</td>\n",
       "      <td>On-site</td>\n",
       "      <td>1585363</td>\n",
       "    </tr>\n",
       "    <tr>\n",
       "      <th>1</th>\n",
       "      <td>EMP0000002</td>\n",
       "      <td>Julie Williams</td>\n",
       "      <td>Marketing</td>\n",
       "      <td>SEO Specialist</td>\n",
       "      <td>2018-03-02</td>\n",
       "      <td>Anthonyside, Costa Rica</td>\n",
       "      <td>2</td>\n",
       "      <td>7</td>\n",
       "      <td>Active</td>\n",
       "      <td>On-site</td>\n",
       "      <td>847686</td>\n",
       "    </tr>\n",
       "    <tr>\n",
       "      <th>2</th>\n",
       "      <td>EMP0000003</td>\n",
       "      <td>Alyssa Martinez</td>\n",
       "      <td>HR</td>\n",
       "      <td>HR Manager</td>\n",
       "      <td>2023-03-20</td>\n",
       "      <td>Port Christinaport, Saudi Arabia</td>\n",
       "      <td>1</td>\n",
       "      <td>2</td>\n",
       "      <td>Active</td>\n",
       "      <td>On-site</td>\n",
       "      <td>1430084</td>\n",
       "    </tr>\n",
       "  </tbody>\n",
       "</table>\n",
       "</div>"
      ],
      "text/plain": [
       "  Employee_ID        Full_Name Department          Job_Title  Hire_Date  \\\n",
       "0  EMP0000001    Joshua Nguyen         IT  Software Engineer 2011-08-10   \n",
       "1  EMP0000002   Julie Williams  Marketing     SEO Specialist 2018-03-02   \n",
       "2  EMP0000003  Alyssa Martinez         HR         HR Manager 2023-03-20   \n",
       "\n",
       "                           Location  Performance_Rating  Experience_Years  \\\n",
       "0                Isaacland, Denmark                   5                14   \n",
       "1           Anthonyside, Costa Rica                   2                 7   \n",
       "2  Port Christinaport, Saudi Arabia                   1                 2   \n",
       "\n",
       "     Status Work_Mode  Salary_INR  \n",
       "0  Resigned   On-site     1585363  \n",
       "1    Active   On-site      847686  \n",
       "2    Active   On-site     1430084  "
      ]
     },
     "execution_count": 26,
     "metadata": {},
     "output_type": "execute_result"
    }
   ],
   "source": [
    "df.head(3)"
   ]
  },
  {
   "cell_type": "code",
   "execution_count": 27,
   "id": "02f0443b-eaed-4494-82cf-ebb1b05423e9",
   "metadata": {},
   "outputs": [
    {
     "data": {
      "text/plain": [
       "Status\n",
       "Active        1401558\n",
       "Resigned       398660\n",
       "Retired         99912\n",
       "Terminated      99870\n",
       "Name: count, dtype: int64"
      ]
     },
     "execution_count": 27,
     "metadata": {},
     "output_type": "execute_result"
    }
   ],
   "source": [
    "status_count=df[\"Status\"].value_counts()\n",
    "status_count"
   ]
  },
  {
   "cell_type": "code",
   "execution_count": 28,
   "id": "9d826e25-c291-4ab9-9408-24b67c33b2a2",
   "metadata": {},
   "outputs": [
    {
     "data": {
      "image/png": "[encoded data removed]",
      "text/plain": [
       "<Figure size 640x480 with 1 Axes>"
      ]
     },
     "metadata": {},
     "output_type": "display_data"
    }
   ],
   "source": [
    "plt.pie(x=status_count.values, labels=status_count.index,autopct='%1.1f%%',explode=(0.03,0.03,0.03,0.03))\n",
    "plt.title('Employee Status Distribution')\n",
    "plt.show()"
   ]
  },
  {
   "cell_type": "markdown",
   "id": "bbbf95cf-4582-4915-9fb3-8e805300ec7b",
   "metadata": {},
   "source": [
    "## Q-2)What is the distribution of work mode()?"
   ]
  },
  {
   "cell_type": "code",
   "execution_count": 29,
   "id": "a93162a8-3122-406d-b6df-6b93c4e22595",
   "metadata": {},
   "outputs": [
    {
     "data": {
      "text/html": [
       "<div>\n",
       "<style scoped>\n",
       "    .dataframe tbody tr th:only-of-type {\n",
       "        vertical-align: middle;\n",
       "    }\n",
       "\n",
       "    .dataframe tbody tr th {\n",
       "        vertical-align: top;\n",
       "    }\n",
       "\n",
       "    .dataframe thead th {\n",
       "        text-align: right;\n",
       "    }\n",
       "</style>\n",
       "<table border=\"1\" class=\"dataframe\">\n",
       "  <thead>\n",
       "    <tr style=\"text-align: right;\">\n",
       "      <th></th>\n",
       "      <th>Employee_ID</th>\n",
       "      <th>Full_Name</th>\n",
       "      <th>Department</th>\n",
       "      <th>Job_Title</th>\n",
       "      <th>Hire_Date</th>\n",
       "      <th>Location</th>\n",
       "      <th>Performance_Rating</th>\n",
       "      <th>Experience_Years</th>\n",
       "      <th>Status</th>\n",
       "      <th>Work_Mode</th>\n",
       "      <th>Salary_INR</th>\n",
       "    </tr>\n",
       "  </thead>\n",
       "  <tbody>\n",
       "    <tr>\n",
       "      <th>783407</th>\n",
       "      <td>EMP0783408</td>\n",
       "      <td>Ashlee Parker</td>\n",
       "      <td>Operations</td>\n",
       "      <td>Logistics Coordinator</td>\n",
       "      <td>2016-03-03</td>\n",
       "      <td>North Benjaminfort, Bahrain</td>\n",
       "      <td>3</td>\n",
       "      <td>9</td>\n",
       "      <td>Active</td>\n",
       "      <td>On-site</td>\n",
       "      <td>740104</td>\n",
       "    </tr>\n",
       "    <tr>\n",
       "      <th>1871316</th>\n",
       "      <td>EMP1871317</td>\n",
       "      <td>John Ball</td>\n",
       "      <td>Sales</td>\n",
       "      <td>Account Manager</td>\n",
       "      <td>2013-06-18</td>\n",
       "      <td>Jenniferborough, Holy See (Vatican City State)</td>\n",
       "      <td>4</td>\n",
       "      <td>12</td>\n",
       "      <td>Retired</td>\n",
       "      <td>On-site</td>\n",
       "      <td>829739</td>\n",
       "    </tr>\n",
       "  </tbody>\n",
       "</table>\n",
       "</div>"
      ],
      "text/plain": [
       "        Employee_ID      Full_Name  Department              Job_Title  \\\n",
       "783407   EMP0783408  Ashlee Parker  Operations  Logistics Coordinator   \n",
       "1871316  EMP1871317      John Ball       Sales        Account Manager   \n",
       "\n",
       "         Hire_Date                                        Location  \\\n",
       "783407  2016-03-03                     North Benjaminfort, Bahrain   \n",
       "1871316 2013-06-18  Jenniferborough, Holy See (Vatican City State)   \n",
       "\n",
       "         Performance_Rating  Experience_Years   Status Work_Mode  Salary_INR  \n",
       "783407                    3                 9   Active   On-site      740104  \n",
       "1871316                   4                12  Retired   On-site      829739  "
      ]
     },
     "execution_count": 29,
     "metadata": {},
     "output_type": "execute_result"
    }
   ],
   "source": [
    "df.sample(2)"
   ]
  },
  {
   "cell_type": "code",
   "execution_count": 30,
   "id": "f337c5b8-819a-4bec-98c3-f0ed133640bc",
   "metadata": {},
   "outputs": [
    {
     "data": {
      "text/plain": [
       "Work_Mode\n",
       "On-site    1199109\n",
       "Remote      800891\n",
       "Name: count, dtype: int64"
      ]
     },
     "execution_count": 30,
     "metadata": {},
     "output_type": "execute_result"
    }
   ],
   "source": [
    "work=df[\"Work_Mode\"].value_counts()\n",
    "work"
   ]
  },
  {
   "cell_type": "code",
   "execution_count": 31,
   "id": "bdefcfb1-57ed-4946-951a-ddc055477f1b",
   "metadata": {},
   "outputs": [
    {
     "data": {
      "image/png": "[encoded data removed]",
      "text/plain": [
       "<Figure size 640x480 with 1 Axes>"
      ]
     },
     "metadata": {},
     "output_type": "display_data"
    }
   ],
   "source": [
    "plt.pie(x=work.values,labels=work.index,colors=(\"g\",\"y\"),autopct=\"%1.1f%%\",shadow=True)\n",
    "plt.show()"
   ]
  },
  {
   "cell_type": "markdown",
   "id": "e5aad3db-21d7-4c73-904e-e2c6eee77989",
   "metadata": {},
   "source": [
    "## Q-3)How many employees is there in each dept?"
   ]
  },
  {
   "cell_type": "code",
   "execution_count": 32,
   "id": "567440f1-816e-4412-a15e-4e79b2a47bb6",
   "metadata": {},
   "outputs": [
    {
     "data": {
      "text/plain": [
       "Department\n",
       "IT            601042\n",
       "Sales         400031\n",
       "Operations    300095\n",
       "Marketing     240081\n",
       "Finance       199873\n",
       "HR            159119\n",
       "R&D            99759\n",
       "Name: count, dtype: int64"
      ]
     },
     "execution_count": 32,
     "metadata": {},
     "output_type": "execute_result"
    }
   ],
   "source": [
    "dpt=df[\"Department\"].value_counts()\n",
    "dpt"
   ]
  },
  {
   "cell_type": "code",
   "execution_count": 33,
   "id": "99b12eab-cca7-49e4-9c3c-8fd96f0ab546",
   "metadata": {},
   "outputs": [
    {
     "data": {
      "text/plain": [
       "<BarContainer object of 7 artists>"
      ]
     },
     "execution_count": 33,
     "metadata": {},
     "output_type": "execute_result"
    },
    {
     "data": {
      "image/png": "[encoded data removed]",
      "text/plain": [
       "<Figure size 640x480 with 1 Axes>"
      ]
     },
     "metadata": {},
     "output_type": "display_data"
    }
   ],
   "source": [
    "plt.bar(dpt.index,dpt.values)"
   ]
  },
  {
   "cell_type": "code",
   "execution_count": 34,
   "id": "d97b3f11-6ad6-4fee-b3c5-80b510b48e68",
   "metadata": {},
   "outputs": [
    {
     "data": {
      "image/png": "[encoded data removed]",
      "text/plain": [
       "<Figure size 640x480 with 1 Axes>"
      ]
     },
     "metadata": {},
     "output_type": "display_data"
    }
   ],
   "source": [
    "c=['blue', 'green', 'red', 'orange', 'purple', 'cyan', 'magenta']\n",
    "sns.countplot(x=\"Department\",data=df,color=\"r\")  # pastel 7-color palette)\n",
    "plt.show()"
   ]
  },
  {
   "cell_type": "markdown",
   "id": "803e6987-bd5c-4f18-a3d5-970a8ec3a72a",
   "metadata": {},
   "source": [
    "### Doing the same for job tiltle"
   ]
  },
  {
   "cell_type": "code",
   "execution_count": 35,
   "id": "4934e7d2-d8ab-49d3-8124-ee0416045326",
   "metadata": {},
   "outputs": [
    {
     "data": {
      "text/plain": [
       "Job_Title\n",
       "Software Engineer                300358\n",
       "Sales Executive                  199982\n",
       "Operations Executive             150058\n",
       "Data Analyst                     120375\n",
       "Marketing Executive              120154\n",
       "Account Manager                  119929\n",
       "Accountant                       100307\n",
       "DevOps Engineer                   90197\n",
       "Logistics Coordinator             90188\n",
       "HR Executive                      79348\n",
       "SEO Specialist                    71692\n",
       "Business Development Manager      60233\n",
       "IT Manager                        60224\n",
       "Financial Analyst                 59815\n",
       "Research Scientist                50017\n",
       "Talent Acquisition Specialist     47994\n",
       "Supply Chain Manager              44935\n",
       "Content Strategist                36154\n",
       "CTO                               29888\n",
       "Product Developer                 29872\n",
       "Finance Manager                   29799\n",
       "HR Manager                        23841\n",
       "Sales Director                    19887\n",
       "Operations Director               14914\n",
       "Lab Technician                    14829\n",
       "Brand Manager                     12081\n",
       "CFO                                9952\n",
       "HR Director                        7936\n",
       "Innovation Manager                 5041\n",
       "Name: count, dtype: int64"
      ]
     },
     "execution_count": 35,
     "metadata": {},
     "output_type": "execute_result"
    }
   ],
   "source": [
    "jt=df[\"Job_Title\"].value_counts()\n",
    "jt"
   ]
  },
  {
   "cell_type": "code",
   "execution_count": 36,
   "id": "91e35b74-a422-45ae-afe8-b92f2d6a8f47",
   "metadata": {},
   "outputs": [
    {
     "data": {
      "image/png": "[encoded data removed]",
      "text/plain": [
       "<Figure size 1000x600 with 1 Axes>"
      ]
     },
     "metadata": {},
     "output_type": "display_data"
    }
   ],
   "source": [
    "plt.figure(figsize=(10,6))\n",
    "sns.countplot(x=\"Job_Title\",data=df,color=\"brown\")\n",
    "plt.xticks(rotation=90,fontweight='bold')\n",
    "plt.show()"
   ]
  },
  {
   "cell_type": "code",
   "execution_count": 37,
   "id": "b188717a-417c-4770-8233-bdcec6a8f204",
   "metadata": {},
   "outputs": [
    {
     "data": {
      "text/html": [
       "<div>\n",
       "<style scoped>\n",
       "    .dataframe tbody tr th:only-of-type {\n",
       "        vertical-align: middle;\n",
       "    }\n",
       "\n",
       "    .dataframe tbody tr th {\n",
       "        vertical-align: top;\n",
       "    }\n",
       "\n",
       "    .dataframe thead th {\n",
       "        text-align: right;\n",
       "    }\n",
       "</style>\n",
       "<table border=\"1\" class=\"dataframe\">\n",
       "  <thead>\n",
       "    <tr style=\"text-align: right;\">\n",
       "      <th></th>\n",
       "      <th>Employee_ID</th>\n",
       "      <th>Full_Name</th>\n",
       "      <th>Department</th>\n",
       "      <th>Job_Title</th>\n",
       "      <th>Hire_Date</th>\n",
       "      <th>Location</th>\n",
       "      <th>Performance_Rating</th>\n",
       "      <th>Experience_Years</th>\n",
       "      <th>Status</th>\n",
       "      <th>Work_Mode</th>\n",
       "      <th>Salary_INR</th>\n",
       "    </tr>\n",
       "  </thead>\n",
       "  <tbody>\n",
       "    <tr>\n",
       "      <th>1019225</th>\n",
       "      <td>EMP1019226</td>\n",
       "      <td>Melissa Perez</td>\n",
       "      <td>Finance</td>\n",
       "      <td>Financial Analyst</td>\n",
       "      <td>2016-08-10</td>\n",
       "      <td>North Karenland, Heard Island and McDonald Isl...</td>\n",
       "      <td>5</td>\n",
       "      <td>9</td>\n",
       "      <td>Active</td>\n",
       "      <td>On-site</td>\n",
       "      <td>681767</td>\n",
       "    </tr>\n",
       "    <tr>\n",
       "      <th>1029911</th>\n",
       "      <td>EMP1029912</td>\n",
       "      <td>Mrs. Cheryl Cole</td>\n",
       "      <td>Marketing</td>\n",
       "      <td>Marketing Executive</td>\n",
       "      <td>2024-09-06</td>\n",
       "      <td>East Andrew, Denmark</td>\n",
       "      <td>2</td>\n",
       "      <td>0</td>\n",
       "      <td>Active</td>\n",
       "      <td>On-site</td>\n",
       "      <td>594300</td>\n",
       "    </tr>\n",
       "    <tr>\n",
       "      <th>1008894</th>\n",
       "      <td>EMP1008895</td>\n",
       "      <td>Amber Carey</td>\n",
       "      <td>IT</td>\n",
       "      <td>DevOps Engineer</td>\n",
       "      <td>2019-08-05</td>\n",
       "      <td>South Jaketown, Slovenia</td>\n",
       "      <td>1</td>\n",
       "      <td>6</td>\n",
       "      <td>Active</td>\n",
       "      <td>Remote</td>\n",
       "      <td>613941</td>\n",
       "    </tr>\n",
       "  </tbody>\n",
       "</table>\n",
       "</div>"
      ],
      "text/plain": [
       "        Employee_ID         Full_Name Department            Job_Title  \\\n",
       "1019225  EMP1019226     Melissa Perez    Finance    Financial Analyst   \n",
       "1029911  EMP1029912  Mrs. Cheryl Cole  Marketing  Marketing Executive   \n",
       "1008894  EMP1008895       Amber Carey         IT      DevOps Engineer   \n",
       "\n",
       "         Hire_Date                                           Location  \\\n",
       "1019225 2016-08-10  North Karenland, Heard Island and McDonald Isl...   \n",
       "1029911 2024-09-06                               East Andrew, Denmark   \n",
       "1008894 2019-08-05                           South Jaketown, Slovenia   \n",
       "\n",
       "         Performance_Rating  Experience_Years  Status Work_Mode  Salary_INR  \n",
       "1019225                   5                 9  Active   On-site      681767  \n",
       "1029911                   2                 0  Active   On-site      594300  \n",
       "1008894                   1                 6  Active    Remote      613941  "
      ]
     },
     "execution_count": 37,
     "metadata": {},
     "output_type": "execute_result"
    }
   ],
   "source": [
    "df.sample(3)"
   ]
  },
  {
   "cell_type": "code",
   "execution_count": null,
   "id": "d1674f2a-010b-4ca3-8542-f66233f9cfaf",
   "metadata": {},
   "outputs": [],
   "source": []
  },
  {
   "cell_type": "markdown",
   "id": "0faad8b6-e038-4b94-a994-4136823f1506",
   "metadata": {},
   "source": [
    "## Q-4) What is the avg salary by dept?"
   ]
  },
  {
   "cell_type": "code",
   "execution_count": 38,
   "id": "ceea6281-ed4e-49b4-9aae-0cca13110fb0",
   "metadata": {},
   "outputs": [],
   "source": [
    "dd=df.groupby(\"Department\")[\"Salary_INR\"].mean()/1000\n",
    "ddd=pd.DataFrame(dd)\n"
   ]
  },
  {
   "cell_type": "code",
   "execution_count": 39,
   "id": "898956fb-02c1-4a8a-8905-c0a12a554d0b",
   "metadata": {},
   "outputs": [
    {
     "data": {
      "text/plain": [
       "[]"
      ]
     },
     "execution_count": 39,
     "metadata": {},
     "output_type": "execute_result"
    },
    {
     "data": {
      "image/png": "[encoded data removed]",
      "text/plain": [
       "<Figure size 640x480 with 1 Axes>"
      ]
     },
     "metadata": {},
     "output_type": "display_data"
    }
   ],
   "source": [
    "sns.barplot(x=\"Department\",y=\"Salary_INR\",data=ddd,legend=True,color=\"c\")\n",
    "plt.grid()\n",
    "plt.xticks(rotation=70)\n",
    "plt.plot()"
   ]
  },
  {
   "cell_type": "markdown",
   "id": "04134b43-2093-4742-9605-8e3d94a29b27",
   "metadata": {},
   "source": [
    "## Q-5) Which job title has the highest avg salary?"
   ]
  },
  {
   "cell_type": "code",
   "execution_count": 40,
   "id": "8e109761-fdfa-42e0-8958-eea2277aaf68",
   "metadata": {},
   "outputs": [
    {
     "data": {
      "text/html": [
       "<div>\n",
       "<style scoped>\n",
       "    .dataframe tbody tr th:only-of-type {\n",
       "        vertical-align: middle;\n",
       "    }\n",
       "\n",
       "    .dataframe tbody tr th {\n",
       "        vertical-align: top;\n",
       "    }\n",
       "\n",
       "    .dataframe thead th {\n",
       "        text-align: right;\n",
       "    }\n",
       "</style>\n",
       "<table border=\"1\" class=\"dataframe\">\n",
       "  <thead>\n",
       "    <tr style=\"text-align: right;\">\n",
       "      <th></th>\n",
       "      <th>Employee_ID</th>\n",
       "      <th>Full_Name</th>\n",
       "      <th>Department</th>\n",
       "      <th>Job_Title</th>\n",
       "      <th>Hire_Date</th>\n",
       "      <th>Location</th>\n",
       "      <th>Performance_Rating</th>\n",
       "      <th>Experience_Years</th>\n",
       "      <th>Status</th>\n",
       "      <th>Work_Mode</th>\n",
       "      <th>Salary_INR</th>\n",
       "    </tr>\n",
       "  </thead>\n",
       "  <tbody>\n",
       "    <tr>\n",
       "      <th>0</th>\n",
       "      <td>EMP0000001</td>\n",
       "      <td>Joshua Nguyen</td>\n",
       "      <td>IT</td>\n",
       "      <td>Software Engineer</td>\n",
       "      <td>2011-08-10</td>\n",
       "      <td>Isaacland, Denmark</td>\n",
       "      <td>5</td>\n",
       "      <td>14</td>\n",
       "      <td>Resigned</td>\n",
       "      <td>On-site</td>\n",
       "      <td>1585363</td>\n",
       "    </tr>\n",
       "    <tr>\n",
       "      <th>1</th>\n",
       "      <td>EMP0000002</td>\n",
       "      <td>Julie Williams</td>\n",
       "      <td>Marketing</td>\n",
       "      <td>SEO Specialist</td>\n",
       "      <td>2018-03-02</td>\n",
       "      <td>Anthonyside, Costa Rica</td>\n",
       "      <td>2</td>\n",
       "      <td>7</td>\n",
       "      <td>Active</td>\n",
       "      <td>On-site</td>\n",
       "      <td>847686</td>\n",
       "    </tr>\n",
       "    <tr>\n",
       "      <th>2</th>\n",
       "      <td>EMP0000003</td>\n",
       "      <td>Alyssa Martinez</td>\n",
       "      <td>HR</td>\n",
       "      <td>HR Manager</td>\n",
       "      <td>2023-03-20</td>\n",
       "      <td>Port Christinaport, Saudi Arabia</td>\n",
       "      <td>1</td>\n",
       "      <td>2</td>\n",
       "      <td>Active</td>\n",
       "      <td>On-site</td>\n",
       "      <td>1430084</td>\n",
       "    </tr>\n",
       "    <tr>\n",
       "      <th>3</th>\n",
       "      <td>EMP0000004</td>\n",
       "      <td>Nicholas Valdez</td>\n",
       "      <td>IT</td>\n",
       "      <td>Software Engineer</td>\n",
       "      <td>2023-10-12</td>\n",
       "      <td>Port Shelbychester, Antigua and Barbuda</td>\n",
       "      <td>1</td>\n",
       "      <td>1</td>\n",
       "      <td>Active</td>\n",
       "      <td>On-site</td>\n",
       "      <td>990689</td>\n",
       "    </tr>\n",
       "    <tr>\n",
       "      <th>4</th>\n",
       "      <td>EMP0000005</td>\n",
       "      <td>Joel Hendricks</td>\n",
       "      <td>Operations</td>\n",
       "      <td>Logistics Coordinator</td>\n",
       "      <td>2024-12-09</td>\n",
       "      <td>Lake Kimberly, Palestinian Territory</td>\n",
       "      <td>5</td>\n",
       "      <td>0</td>\n",
       "      <td>Active</td>\n",
       "      <td>On-site</td>\n",
       "      <td>535082</td>\n",
       "    </tr>\n",
       "  </tbody>\n",
       "</table>\n",
       "</div>"
      ],
      "text/plain": [
       "  Employee_ID        Full_Name  Department              Job_Title  Hire_Date  \\\n",
       "0  EMP0000001    Joshua Nguyen          IT      Software Engineer 2011-08-10   \n",
       "1  EMP0000002   Julie Williams   Marketing         SEO Specialist 2018-03-02   \n",
       "2  EMP0000003  Alyssa Martinez          HR             HR Manager 2023-03-20   \n",
       "3  EMP0000004  Nicholas Valdez          IT      Software Engineer 2023-10-12   \n",
       "4  EMP0000005   Joel Hendricks  Operations  Logistics Coordinator 2024-12-09   \n",
       "\n",
       "                                  Location  Performance_Rating  \\\n",
       "0                       Isaacland, Denmark                   5   \n",
       "1                  Anthonyside, Costa Rica                   2   \n",
       "2         Port Christinaport, Saudi Arabia                   1   \n",
       "3  Port Shelbychester, Antigua and Barbuda                   1   \n",
       "4     Lake Kimberly, Palestinian Territory                   5   \n",
       "\n",
       "   Experience_Years    Status Work_Mode  Salary_INR  \n",
       "0                14  Resigned   On-site     1585363  \n",
       "1                 7    Active   On-site      847686  \n",
       "2                 2    Active   On-site     1430084  \n",
       "3                 1    Active   On-site      990689  \n",
       "4                 0    Active   On-site      535082  "
      ]
     },
     "execution_count": 40,
     "metadata": {},
     "output_type": "execute_result"
    }
   ],
   "source": [
    "df.head()"
   ]
  },
  {
   "cell_type": "code",
   "execution_count": 41,
   "id": "704f02dd-7238-43e1-8fbc-31dfa7ddbe1b",
   "metadata": {},
   "outputs": [
    {
     "data": {
      "text/plain": [
       "Job_Title\n",
       "IT Manager                       2098.155777\n",
       "Finance Manager                  1743.241525\n",
       "HR Manager                       1252.401915\n",
       "Business Development Manager     1252.016231\n",
       "Software Engineer                1199.260843\n",
       "Financial Analyst                1051.522903\n",
       "Brand Manager                     803.127787\n",
       "Innovation Manager                801.870103\n",
       "Talent Acquisition Specialist     801.422237\n",
       "CTO                               801.402754\n",
       "Research Scientist                801.314879\n",
       "Data Analyst                      800.996380\n",
       "Content Strategist                800.760030\n",
       "HR Director                       800.694437\n",
       "Operations Executive              800.350915\n",
       "Lab Technician                    800.181468\n",
       "DevOps Engineer                   799.949184\n",
       "Account Manager                   799.373734\n",
       "Sales Director                    799.069374\n",
       "Marketing Executive               798.780404\n",
       "Product Developer                 798.652261\n",
       "Operations Director               798.298093\n",
       "Supply Chain Manager              798.168555\n",
       "CFO                               795.015873\n",
       "SEO Specialist                    700.456337\n",
       "Sales Executive                   650.237755\n",
       "Accountant                        650.076482\n",
       "Logistics Coordinator             649.631726\n",
       "HR Executive                      550.548859\n",
       "Name: Salary_INR, dtype: float64"
      ]
     },
     "execution_count": 41,
     "metadata": {},
     "output_type": "execute_result"
    }
   ],
   "source": [
    "avg_sal=(df.groupby(\"Job_Title\")[\"Salary_INR\"].mean()/1000).sort_values(ascending=False)\n",
    "avg_sal\n"
   ]
  },
  {
   "cell_type": "code",
   "execution_count": 42,
   "id": "1c64baf7-d87e-4a77-a71e-6a561cf7b72f",
   "metadata": {},
   "outputs": [
    {
     "data": {
      "text/plain": [
       "[]"
      ]
     },
     "execution_count": 42,
     "metadata": {},
     "output_type": "execute_result"
    },
    {
     "data": {
      "image/png": "[encoded data removed]",
      "text/plain": [
       "<Figure size 640x480 with 1 Axes>"
      ]
     },
     "metadata": {},
     "output_type": "display_data"
    }
   ],
   "source": [
    "# ploting bar chart with plt\n",
    "plt.bar(avg_sal.index,avg_sal.values,color=\"skyblue\", edgecolor=\"black\")\n",
    "\n",
    "plt.xticks(rotation=90, ha=\"right\")\n",
    "plt.xlabel(\"Job Title\")\n",
    "plt.ylabel(\"Average Salary (INR)\")\n",
    "plt.title(\"Average Salary by Job Title (Matplotlib)\")\n",
    "plt.plot()"
   ]
  },
  {
   "cell_type": "raw",
   "id": "c6947abe-9f19-49b2-b120-c5164999563b",
   "metadata": {},
   "source": [
    "#ploting bar chart with sns\n",
    "\n",
    "plt.figure(figsize=(10,6))\n",
    "sns.barplot(x=avg_salary.index, y=avg_salary.values, palette=\"Blues_r\")\n",
    "\n",
    "plt.xticks(rotation=45, ha=\"right\")\n",
    "plt.xlabel(\"Job Title\")\n",
    "plt.ylabel(\"Average Salary (INR)\")\n",
    "plt.title(\"Average Salary by Job Title (Seaborn)\")\n",
    "\n",
    "plt.show()\n"
   ]
  },
  {
   "cell_type": "markdown",
   "id": "385836e1-6061-40d8-bd79-6e6231134964",
   "metadata": {},
   "source": [
    "## Q-6) What is the avg salary in diff dept based on job title?"
   ]
  },
  {
   "cell_type": "code",
   "execution_count": 43,
   "id": "579a2337-66de-46b4-be37-8cdb5e537669",
   "metadata": {},
   "outputs": [
    {
     "data": {
      "text/plain": [
       "Department  Job_Title                    \n",
       "Finance     Accountant                        650.076482\n",
       "            CFO                               795.015873\n",
       "            Finance Manager                  1743.241525\n",
       "            Financial Analyst                1051.522903\n",
       "HR          HR Director                       800.694437\n",
       "            HR Executive                      550.548859\n",
       "            HR Manager                       1252.401915\n",
       "            Talent Acquisition Specialist     801.422237\n",
       "IT          CTO                               801.402754\n",
       "            Data Analyst                      800.996380\n",
       "            DevOps Engineer                   799.949184\n",
       "            IT Manager                       2098.155777\n",
       "            Software Engineer                1199.260843\n",
       "Marketing   Brand Manager                     803.127787\n",
       "            Content Strategist                800.760030\n",
       "            Marketing Executive               798.780404\n",
       "            SEO Specialist                    700.456337\n",
       "Operations  Logistics Coordinator             649.631726\n",
       "            Operations Director               798.298093\n",
       "            Operations Executive              800.350915\n",
       "            Supply Chain Manager              798.168555\n",
       "R&D         Innovation Manager                801.870103\n",
       "            Lab Technician                    800.181468\n",
       "            Product Developer                 798.652261\n",
       "            Research Scientist                801.314879\n",
       "Sales       Account Manager                   799.373734\n",
       "            Business Development Manager     1252.016231\n",
       "            Sales Director                    799.069374\n",
       "            Sales Executive                   650.237755\n",
       "Name: Salary_INR, dtype: float64"
      ]
     },
     "execution_count": 43,
     "metadata": {},
     "output_type": "execute_result"
    }
   ],
   "source": [
    "dept_job=df.groupby([\"Department\",\"Job_Title\"])[\"Salary_INR\"].mean()/1000\n",
    "dept_job"
   ]
  },
  {
   "cell_type": "code",
   "execution_count": 44,
   "id": "277cb7b2-bf5c-490c-9551-2dde683ae671",
   "metadata": {},
   "outputs": [
    {
     "data": {
      "image/png": "[encoded data removed]",
      "text/plain": [
       "<Figure size 1000x600 with 1 Axes>"
      ]
     },
     "metadata": {},
     "output_type": "display_data"
    }
   ],
   "source": [
    "\n",
    "dept_job.plot(kind = \"bar\", figsize=(10,6))\n",
    "\n",
    "plt.title(\"Avg salary in diff dept\")\n",
    "plt.ylabel(\"salary\")\n",
    "\n",
    "plt.show()"
   ]
  },
  {
   "cell_type": "markdown",
   "id": "278446bb-0d10-4a28-bc1e-ea11f0d70884",
   "metadata": {},
   "source": [
    "## Q-7) How many employees resigned and terminated in each dept?"
   ]
  },
  {
   "cell_type": "code",
   "execution_count": 45,
   "id": "62f20f6f-8d66-4288-a860-1a6cdf1a7e21",
   "metadata": {},
   "outputs": [
    {
     "data": {
      "text/html": [
       "<div>\n",
       "<style scoped>\n",
       "    .dataframe tbody tr th:only-of-type {\n",
       "        vertical-align: middle;\n",
       "    }\n",
       "\n",
       "    .dataframe tbody tr th {\n",
       "        vertical-align: top;\n",
       "    }\n",
       "\n",
       "    .dataframe thead th {\n",
       "        text-align: right;\n",
       "    }\n",
       "</style>\n",
       "<table border=\"1\" class=\"dataframe\">\n",
       "  <thead>\n",
       "    <tr style=\"text-align: right;\">\n",
       "      <th></th>\n",
       "      <th>Employee_ID</th>\n",
       "      <th>Full_Name</th>\n",
       "      <th>Department</th>\n",
       "      <th>Job_Title</th>\n",
       "      <th>Hire_Date</th>\n",
       "      <th>Location</th>\n",
       "      <th>Performance_Rating</th>\n",
       "      <th>Experience_Years</th>\n",
       "      <th>Status</th>\n",
       "      <th>Work_Mode</th>\n",
       "      <th>Salary_INR</th>\n",
       "    </tr>\n",
       "  </thead>\n",
       "  <tbody>\n",
       "    <tr>\n",
       "      <th>112198</th>\n",
       "      <td>EMP0112199</td>\n",
       "      <td>Kyle Jennings</td>\n",
       "      <td>Operations</td>\n",
       "      <td>Operations Executive</td>\n",
       "      <td>2013-01-23</td>\n",
       "      <td>Joshuaside, Seychelles</td>\n",
       "      <td>2</td>\n",
       "      <td>12</td>\n",
       "      <td>Active</td>\n",
       "      <td>On-site</td>\n",
       "      <td>1005797</td>\n",
       "    </tr>\n",
       "    <tr>\n",
       "      <th>1052658</th>\n",
       "      <td>EMP1052659</td>\n",
       "      <td>Phillip Mitchell</td>\n",
       "      <td>Operations</td>\n",
       "      <td>Logistics Coordinator</td>\n",
       "      <td>2020-01-06</td>\n",
       "      <td>Johnsonton, North Macedonia</td>\n",
       "      <td>2</td>\n",
       "      <td>5</td>\n",
       "      <td>Active</td>\n",
       "      <td>On-site</td>\n",
       "      <td>551235</td>\n",
       "    </tr>\n",
       "    <tr>\n",
       "      <th>414716</th>\n",
       "      <td>EMP0414717</td>\n",
       "      <td>Brooke Rogers</td>\n",
       "      <td>HR</td>\n",
       "      <td>Talent Acquisition Specialist</td>\n",
       "      <td>2015-04-04</td>\n",
       "      <td>New Joshua, Kuwait</td>\n",
       "      <td>2</td>\n",
       "      <td>10</td>\n",
       "      <td>Active</td>\n",
       "      <td>On-site</td>\n",
       "      <td>1149220</td>\n",
       "    </tr>\n",
       "  </tbody>\n",
       "</table>\n",
       "</div>"
      ],
      "text/plain": [
       "        Employee_ID         Full_Name  Department  \\\n",
       "112198   EMP0112199     Kyle Jennings  Operations   \n",
       "1052658  EMP1052659  Phillip Mitchell  Operations   \n",
       "414716   EMP0414717     Brooke Rogers          HR   \n",
       "\n",
       "                             Job_Title  Hire_Date  \\\n",
       "112198            Operations Executive 2013-01-23   \n",
       "1052658          Logistics Coordinator 2020-01-06   \n",
       "414716   Talent Acquisition Specialist 2015-04-04   \n",
       "\n",
       "                            Location  Performance_Rating  Experience_Years  \\\n",
       "112198        Joshuaside, Seychelles                   2                12   \n",
       "1052658  Johnsonton, North Macedonia                   2                 5   \n",
       "414716            New Joshua, Kuwait                   2                10   \n",
       "\n",
       "         Status Work_Mode  Salary_INR  \n",
       "112198   Active   On-site     1005797  \n",
       "1052658  Active   On-site      551235  \n",
       "414716   Active   On-site     1149220  "
      ]
     },
     "execution_count": 45,
     "metadata": {},
     "output_type": "execute_result"
    }
   ],
   "source": [
    "df.sample(3)"
   ]
  },
  {
   "cell_type": "code",
   "execution_count": 46,
   "id": "c04c3970-93e8-44ae-8547-3b2bf45b4581",
   "metadata": {},
   "outputs": [],
   "source": [
    "#here we are careting a new df which will only contain \tResigned records \n",
    "df_Resigned=df[df[\"Status\"]==\"Resigned\"]"
   ]
  },
  {
   "cell_type": "code",
   "execution_count": 47,
   "id": "71b1c8bd-19ec-43aa-969c-2cd3c5f1b9f2",
   "metadata": {},
   "outputs": [
    {
     "data": {
      "text/plain": [
       "Department\n",
       "Finance        40238\n",
       "HR             31736\n",
       "IT            119852\n",
       "Marketing      47793\n",
       "Operations     59397\n",
       "R&D            19919\n",
       "Sales          79725\n",
       "Name: Status, dtype: int64"
      ]
     },
     "execution_count": 47,
     "metadata": {},
     "output_type": "execute_result"
    }
   ],
   "source": [
    "df_Resigned=df_Resigned.groupby(\"Department\")[\"Status\"].count()\n",
    "df_Resigned"
   ]
  },
  {
   "cell_type": "code",
   "execution_count": 48,
   "id": "e18a6a6e-ec59-40ab-abcb-d341f72124e7",
   "metadata": {},
   "outputs": [
    {
     "data": {
      "image/png": "[encoded data removed]",
      "text/plain": [
       "<Figure size 800x600 with 1 Axes>"
      ]
     },
     "metadata": {},
     "output_type": "display_data"
    }
   ],
   "source": [
    "colors = np.random.rand(len(df_Resigned), 3)  # random RGB colors\n",
    "\n",
    "df_Resigned.plot(kind=\"bar\", figsize=(8,6), color=colors, legend=True,label=\"Resigned\")\n",
    "\n",
    "plt.title(\"Resigned employees in each department\")\n",
    "plt.ylabel(\"Count\")\n",
    "plt.show()"
   ]
  },
  {
   "cell_type": "code",
   "execution_count": 49,
   "id": "98c3bc05-1652-4736-ba94-84ac9c09b505",
   "metadata": {},
   "outputs": [
    {
     "data": {
      "text/plain": [
       "Department\n",
       "Finance        9988\n",
       "HR             7861\n",
       "IT            29881\n",
       "Marketing     12044\n",
       "Operations    14884\n",
       "R&D            4998\n",
       "Sales         20214\n",
       "Name: Status, dtype: int64"
      ]
     },
     "execution_count": 49,
     "metadata": {},
     "output_type": "execute_result"
    }
   ],
   "source": [
    "df_Terminated=df[df[\"Status\"]==\"Terminated\"]\n",
    "\n",
    "df_Terminated=df_Terminated.groupby(\"Department\")[\"Status\"].count()\n",
    "df_Terminated"
   ]
  },
  {
   "cell_type": "code",
   "execution_count": 50,
   "id": "28cc38d5-620f-4a1c-9b54-89a06f79268a",
   "metadata": {},
   "outputs": [
    {
     "data": {
      "image/png": "[encoded data removed]",
      "text/plain": [
       "<Figure size 800x600 with 1 Axes>"
      ]
     },
     "metadata": {},
     "output_type": "display_data"
    }
   ],
   "source": [
    "colors = np.random.rand(len(df_Resigned), 3)  # random RGB colors\n",
    "\n",
    "df_Terminated.plot(kind=\"bar\", figsize=(8,6), color=colors, legend=True,label=\"Terminated\")\n",
    "\n",
    "plt.title(\"Terminated employees in each department\")\n",
    "plt.ylabel(\"Count\")\n",
    "plt.show()"
   ]
  },
  {
   "cell_type": "markdown",
   "id": "04d11a36-e440-46d5-8ea2-76c4f40091f0",
   "metadata": {},
   "source": [
    "## Q-8) How does the  salary vary with years of experience?"
   ]
  },
  {
   "cell_type": "code",
   "execution_count": 51,
   "id": "9eff0bbb-1bac-466f-9da0-c47b7911b38e",
   "metadata": {},
   "outputs": [
    {
     "data": {
      "text/html": [
       "<div>\n",
       "<style scoped>\n",
       "    .dataframe tbody tr th:only-of-type {\n",
       "        vertical-align: middle;\n",
       "    }\n",
       "\n",
       "    .dataframe tbody tr th {\n",
       "        vertical-align: top;\n",
       "    }\n",
       "\n",
       "    .dataframe thead th {\n",
       "        text-align: right;\n",
       "    }\n",
       "</style>\n",
       "<table border=\"1\" class=\"dataframe\">\n",
       "  <thead>\n",
       "    <tr style=\"text-align: right;\">\n",
       "      <th></th>\n",
       "      <th>Employee_ID</th>\n",
       "      <th>Full_Name</th>\n",
       "      <th>Department</th>\n",
       "      <th>Job_Title</th>\n",
       "      <th>Hire_Date</th>\n",
       "      <th>Location</th>\n",
       "      <th>Performance_Rating</th>\n",
       "      <th>Experience_Years</th>\n",
       "      <th>Status</th>\n",
       "      <th>Work_Mode</th>\n",
       "      <th>Salary_INR</th>\n",
       "    </tr>\n",
       "  </thead>\n",
       "  <tbody>\n",
       "    <tr>\n",
       "      <th>0</th>\n",
       "      <td>EMP0000001</td>\n",
       "      <td>Joshua Nguyen</td>\n",
       "      <td>IT</td>\n",
       "      <td>Software Engineer</td>\n",
       "      <td>2011-08-10</td>\n",
       "      <td>Isaacland, Denmark</td>\n",
       "      <td>5</td>\n",
       "      <td>14</td>\n",
       "      <td>Resigned</td>\n",
       "      <td>On-site</td>\n",
       "      <td>1585363</td>\n",
       "    </tr>\n",
       "    <tr>\n",
       "      <th>1</th>\n",
       "      <td>EMP0000002</td>\n",
       "      <td>Julie Williams</td>\n",
       "      <td>Marketing</td>\n",
       "      <td>SEO Specialist</td>\n",
       "      <td>2018-03-02</td>\n",
       "      <td>Anthonyside, Costa Rica</td>\n",
       "      <td>2</td>\n",
       "      <td>7</td>\n",
       "      <td>Active</td>\n",
       "      <td>On-site</td>\n",
       "      <td>847686</td>\n",
       "    </tr>\n",
       "  </tbody>\n",
       "</table>\n",
       "</div>"
      ],
      "text/plain": [
       "  Employee_ID       Full_Name Department          Job_Title  Hire_Date  \\\n",
       "0  EMP0000001   Joshua Nguyen         IT  Software Engineer 2011-08-10   \n",
       "1  EMP0000002  Julie Williams  Marketing     SEO Specialist 2018-03-02   \n",
       "\n",
       "                  Location  Performance_Rating  Experience_Years    Status  \\\n",
       "0       Isaacland, Denmark                   5                14  Resigned   \n",
       "1  Anthonyside, Costa Rica                   2                 7    Active   \n",
       "\n",
       "  Work_Mode  Salary_INR  \n",
       "0   On-site     1585363  \n",
       "1   On-site      847686  "
      ]
     },
     "execution_count": 51,
     "metadata": {},
     "output_type": "execute_result"
    }
   ],
   "source": [
    "df.head(2)"
   ]
  },
  {
   "cell_type": "code",
   "execution_count": 52,
   "id": "a92a8b5f-7de3-4497-bb0b-1f21aa859ccb",
   "metadata": {},
   "outputs": [],
   "source": [
    "es=round(df.groupby(\"Experience_Years\")[\"Salary_INR\"].mean(),2)"
   ]
  },
  {
   "cell_type": "code",
   "execution_count": 53,
   "id": "b4db160b-5ffe-4ecd-bbd4-5fddbd472224",
   "metadata": {},
   "outputs": [
    {
     "data": {
      "text/plain": [
       "[<matplotlib.lines.Line2D at 0x1dd99a7a990>]"
      ]
     },
     "execution_count": 53,
     "metadata": {},
     "output_type": "execute_result"
    },
    {
     "data": {
      "image/png": "[encoded data removed]",
      "text/plain": [
       "<Figure size 640x480 with 1 Axes>"
      ]
     },
     "metadata": {},
     "output_type": "display_data"
    }
   ],
   "source": [
    "plt.plot(es.index,es.values)"
   ]
  },
  {
   "cell_type": "markdown",
   "id": "66d53e1f-f3d3-4107-b047-ac9e4e42dec8",
   "metadata": {},
   "source": [
    "## Q-9) What is the avg performance rating by dept?"
   ]
  },
  {
   "cell_type": "code",
   "execution_count": 54,
   "id": "e25dd0d4-05ca-40ca-9586-00b531231203",
   "metadata": {},
   "outputs": [
    {
     "data": {
      "text/plain": [
       "Department\n",
       "Finance       2.996818\n",
       "HR            2.995670\n",
       "IT            2.998216\n",
       "Marketing     3.004736\n",
       "Operations    2.996081\n",
       "R&D           3.001885\n",
       "Sales         3.006362\n",
       "Name: Performance_Rating, dtype: float64"
      ]
     },
     "execution_count": 54,
     "metadata": {},
     "output_type": "execute_result"
    }
   ],
   "source": [
    "pr=df.groupby(\"Department\")[\"Performance_Rating\"].mean()\n",
    "pr"
   ]
  },
  {
   "cell_type": "code",
   "execution_count": 55,
   "id": "2d62ed07-3e5a-4118-afe8-bc1c87bfbd90",
   "metadata": {},
   "outputs": [
    {
     "data": {
      "image/png": "[encoded data removed]",
      "text/plain": [
       "<Figure size 640x480 with 1 Axes>"
      ]
     },
     "metadata": {},
     "output_type": "display_data"
    }
   ],
   "source": [
    "sns.barplot(x=pr.index,y=pr.values,color=\"c\")\n",
    "plt.title(\"performance rating by dept\")\n",
    "plt.ylabel(\"Ratings\")\n",
    "plt.xticks(rotation=40)\n",
    "plt.show()"
   ]
  },
  {
   "cell_type": "markdown",
   "id": "50d9c6a4-4e26-408a-b4b4-73a2f043f116",
   "metadata": {},
   "source": [
    "## Q-10)  which country has the highest concentration of empployees?"
   ]
  },
  {
   "cell_type": "code",
   "execution_count": 56,
   "id": "30ecb971-2e4c-42da-863e-b196c1060553",
   "metadata": {},
   "outputs": [
    {
     "data": {
      "text/html": [
       "<div>\n",
       "<style scoped>\n",
       "    .dataframe tbody tr th:only-of-type {\n",
       "        vertical-align: middle;\n",
       "    }\n",
       "\n",
       "    .dataframe tbody tr th {\n",
       "        vertical-align: top;\n",
       "    }\n",
       "\n",
       "    .dataframe thead th {\n",
       "        text-align: right;\n",
       "    }\n",
       "</style>\n",
       "<table border=\"1\" class=\"dataframe\">\n",
       "  <thead>\n",
       "    <tr style=\"text-align: right;\">\n",
       "      <th></th>\n",
       "      <th>Employee_ID</th>\n",
       "      <th>Full_Name</th>\n",
       "      <th>Department</th>\n",
       "      <th>Job_Title</th>\n",
       "      <th>Hire_Date</th>\n",
       "      <th>Location</th>\n",
       "      <th>Performance_Rating</th>\n",
       "      <th>Experience_Years</th>\n",
       "      <th>Status</th>\n",
       "      <th>Work_Mode</th>\n",
       "      <th>Salary_INR</th>\n",
       "    </tr>\n",
       "  </thead>\n",
       "  <tbody>\n",
       "    <tr>\n",
       "      <th>1834096</th>\n",
       "      <td>EMP1834097</td>\n",
       "      <td>Jennifer Brown</td>\n",
       "      <td>Finance</td>\n",
       "      <td>Accountant</td>\n",
       "      <td>2016-01-27</td>\n",
       "      <td>New Joantown, Cook Islands</td>\n",
       "      <td>5</td>\n",
       "      <td>9</td>\n",
       "      <td>Active</td>\n",
       "      <td>Remote</td>\n",
       "      <td>699569</td>\n",
       "    </tr>\n",
       "    <tr>\n",
       "      <th>1212171</th>\n",
       "      <td>EMP1212172</td>\n",
       "      <td>Maria Nichols</td>\n",
       "      <td>Operations</td>\n",
       "      <td>Logistics Coordinator</td>\n",
       "      <td>2020-12-07</td>\n",
       "      <td>Stephensonland, Netherlands</td>\n",
       "      <td>2</td>\n",
       "      <td>4</td>\n",
       "      <td>Active</td>\n",
       "      <td>On-site</td>\n",
       "      <td>710039</td>\n",
       "    </tr>\n",
       "    <tr>\n",
       "      <th>1951558</th>\n",
       "      <td>EMP1951559</td>\n",
       "      <td>David Duarte</td>\n",
       "      <td>IT</td>\n",
       "      <td>Software Engineer</td>\n",
       "      <td>2023-05-02</td>\n",
       "      <td>New Paulchester, Falkland Islands (Malvinas)</td>\n",
       "      <td>3</td>\n",
       "      <td>2</td>\n",
       "      <td>Active</td>\n",
       "      <td>Remote</td>\n",
       "      <td>1301099</td>\n",
       "    </tr>\n",
       "    <tr>\n",
       "      <th>793872</th>\n",
       "      <td>EMP0793873</td>\n",
       "      <td>Mark Silva</td>\n",
       "      <td>Operations</td>\n",
       "      <td>Operations Executive</td>\n",
       "      <td>2018-04-11</td>\n",
       "      <td>Sarahfurt, Netherlands</td>\n",
       "      <td>5</td>\n",
       "      <td>7</td>\n",
       "      <td>Active</td>\n",
       "      <td>On-site</td>\n",
       "      <td>400349</td>\n",
       "    </tr>\n",
       "    <tr>\n",
       "      <th>1518801</th>\n",
       "      <td>EMP1518802</td>\n",
       "      <td>Paul Collier</td>\n",
       "      <td>IT</td>\n",
       "      <td>Software Engineer</td>\n",
       "      <td>2013-10-07</td>\n",
       "      <td>Lake Joanton, Taiwan</td>\n",
       "      <td>3</td>\n",
       "      <td>11</td>\n",
       "      <td>Active</td>\n",
       "      <td>On-site</td>\n",
       "      <td>830809</td>\n",
       "    </tr>\n",
       "  </tbody>\n",
       "</table>\n",
       "</div>"
      ],
      "text/plain": [
       "        Employee_ID       Full_Name  Department              Job_Title  \\\n",
       "1834096  EMP1834097  Jennifer Brown     Finance             Accountant   \n",
       "1212171  EMP1212172   Maria Nichols  Operations  Logistics Coordinator   \n",
       "1951558  EMP1951559    David Duarte          IT      Software Engineer   \n",
       "793872   EMP0793873      Mark Silva  Operations   Operations Executive   \n",
       "1518801  EMP1518802    Paul Collier          IT      Software Engineer   \n",
       "\n",
       "         Hire_Date                                      Location  \\\n",
       "1834096 2016-01-27                    New Joantown, Cook Islands   \n",
       "1212171 2020-12-07                   Stephensonland, Netherlands   \n",
       "1951558 2023-05-02  New Paulchester, Falkland Islands (Malvinas)   \n",
       "793872  2018-04-11                        Sarahfurt, Netherlands   \n",
       "1518801 2013-10-07                          Lake Joanton, Taiwan   \n",
       "\n",
       "         Performance_Rating  Experience_Years  Status Work_Mode  Salary_INR  \n",
       "1834096                   5                 9  Active    Remote      699569  \n",
       "1212171                   2                 4  Active   On-site      710039  \n",
       "1951558                   3                 2  Active    Remote     1301099  \n",
       "793872                    5                 7  Active   On-site      400349  \n",
       "1518801                   3                11  Active   On-site      830809  "
      ]
     },
     "execution_count": 56,
     "metadata": {},
     "output_type": "execute_result"
    }
   ],
   "source": [
    "df.sample(5)"
   ]
  },
  {
   "cell_type": "raw",
   "id": "85e22344-91f4-4115-9e05-cce1466a3df4",
   "metadata": {},
   "source": [
    "In the data we can see that the location col have country with some other info also,\n",
    "so we need to make a new col from the location col that will only conatain the coountry name."
   ]
  },
  {
   "cell_type": "code",
   "execution_count": null,
   "id": "ba420cde-6ab7-4493-9b45-f188ada87a85",
   "metadata": {},
   "outputs": [],
   "source": []
  },
  {
   "cell_type": "code",
   "execution_count": 68,
   "id": "988fa75d-3a6c-4edb-85cb-e8860739c7d5",
   "metadata": {},
   "outputs": [],
   "source": [
    "df['country'] = df['Location'].str.split(',').str[1].str.strip()\n"
   ]
  },
  {
   "cell_type": "code",
   "execution_count": 69,
   "id": "f390a770-6f03-408c-b2f2-c8153e1b5732",
   "metadata": {},
   "outputs": [
    {
     "data": {
      "text/html": [
       "<div>\n",
       "<style scoped>\n",
       "    .dataframe tbody tr th:only-of-type {\n",
       "        vertical-align: middle;\n",
       "    }\n",
       "\n",
       "    .dataframe tbody tr th {\n",
       "        vertical-align: top;\n",
       "    }\n",
       "\n",
       "    .dataframe thead th {\n",
       "        text-align: right;\n",
       "    }\n",
       "</style>\n",
       "<table border=\"1\" class=\"dataframe\">\n",
       "  <thead>\n",
       "    <tr style=\"text-align: right;\">\n",
       "      <th></th>\n",
       "      <th>Employee_ID</th>\n",
       "      <th>Full_Name</th>\n",
       "      <th>Department</th>\n",
       "      <th>Job_Title</th>\n",
       "      <th>Hire_Date</th>\n",
       "      <th>Location</th>\n",
       "      <th>Performance_Rating</th>\n",
       "      <th>Experience_Years</th>\n",
       "      <th>Status</th>\n",
       "      <th>Work_Mode</th>\n",
       "      <th>Salary_INR</th>\n",
       "      <th>country</th>\n",
       "    </tr>\n",
       "  </thead>\n",
       "  <tbody>\n",
       "    <tr>\n",
       "      <th>1254983</th>\n",
       "      <td>EMP1254984</td>\n",
       "      <td>Craig Harrison</td>\n",
       "      <td>IT</td>\n",
       "      <td>CTO</td>\n",
       "      <td>2019-09-25</td>\n",
       "      <td>South Bryanstad, Thailand</td>\n",
       "      <td>5</td>\n",
       "      <td>5</td>\n",
       "      <td>Resigned</td>\n",
       "      <td>Remote</td>\n",
       "      <td>428245</td>\n",
       "      <td>Thailand</td>\n",
       "    </tr>\n",
       "    <tr>\n",
       "      <th>1694081</th>\n",
       "      <td>EMP1694082</td>\n",
       "      <td>Crystal Vincent</td>\n",
       "      <td>Finance</td>\n",
       "      <td>Accountant</td>\n",
       "      <td>2013-08-17</td>\n",
       "      <td>Jorgemouth, Palestinian Territory</td>\n",
       "      <td>4</td>\n",
       "      <td>12</td>\n",
       "      <td>Retired</td>\n",
       "      <td>On-site</td>\n",
       "      <td>874738</td>\n",
       "      <td>Palestinian Territory</td>\n",
       "    </tr>\n",
       "    <tr>\n",
       "      <th>1229629</th>\n",
       "      <td>EMP1229630</td>\n",
       "      <td>Amanda Jacobs</td>\n",
       "      <td>IT</td>\n",
       "      <td>Software Engineer</td>\n",
       "      <td>2024-10-15</td>\n",
       "      <td>New Thomaschester, Hong Kong</td>\n",
       "      <td>4</td>\n",
       "      <td>0</td>\n",
       "      <td>Active</td>\n",
       "      <td>On-site</td>\n",
       "      <td>1657153</td>\n",
       "      <td>Hong Kong</td>\n",
       "    </tr>\n",
       "    <tr>\n",
       "      <th>417189</th>\n",
       "      <td>EMP0417190</td>\n",
       "      <td>Donald Tate</td>\n",
       "      <td>Sales</td>\n",
       "      <td>Sales Director</td>\n",
       "      <td>2011-12-26</td>\n",
       "      <td>Harveyshire, Equatorial Guinea</td>\n",
       "      <td>2</td>\n",
       "      <td>13</td>\n",
       "      <td>Active</td>\n",
       "      <td>Remote</td>\n",
       "      <td>947912</td>\n",
       "      <td>Equatorial Guinea</td>\n",
       "    </tr>\n",
       "    <tr>\n",
       "      <th>24775</th>\n",
       "      <td>EMP0024776</td>\n",
       "      <td>Patricia Smith</td>\n",
       "      <td>IT</td>\n",
       "      <td>Software Engineer</td>\n",
       "      <td>2021-10-21</td>\n",
       "      <td>Andersonborough, Equatorial Guinea</td>\n",
       "      <td>3</td>\n",
       "      <td>3</td>\n",
       "      <td>Active</td>\n",
       "      <td>On-site</td>\n",
       "      <td>1216599</td>\n",
       "      <td>Equatorial Guinea</td>\n",
       "    </tr>\n",
       "  </tbody>\n",
       "</table>\n",
       "</div>"
      ],
      "text/plain": [
       "        Employee_ID        Full_Name Department          Job_Title  Hire_Date  \\\n",
       "1254983  EMP1254984   Craig Harrison         IT                CTO 2019-09-25   \n",
       "1694081  EMP1694082  Crystal Vincent    Finance         Accountant 2013-08-17   \n",
       "1229629  EMP1229630    Amanda Jacobs         IT  Software Engineer 2024-10-15   \n",
       "417189   EMP0417190      Donald Tate      Sales     Sales Director 2011-12-26   \n",
       "24775    EMP0024776   Patricia Smith         IT  Software Engineer 2021-10-21   \n",
       "\n",
       "                                   Location  Performance_Rating  \\\n",
       "1254983           South Bryanstad, Thailand                   5   \n",
       "1694081   Jorgemouth, Palestinian Territory                   4   \n",
       "1229629        New Thomaschester, Hong Kong                   4   \n",
       "417189       Harveyshire, Equatorial Guinea                   2   \n",
       "24775    Andersonborough, Equatorial Guinea                   3   \n",
       "\n",
       "         Experience_Years    Status Work_Mode  Salary_INR  \\\n",
       "1254983                 5  Resigned    Remote      428245   \n",
       "1694081                12   Retired   On-site      874738   \n",
       "1229629                 0    Active   On-site     1657153   \n",
       "417189                 13    Active    Remote      947912   \n",
       "24775                   3    Active   On-site     1216599   \n",
       "\n",
       "                       country  \n",
       "1254983               Thailand  \n",
       "1694081  Palestinian Territory  \n",
       "1229629              Hong Kong  \n",
       "417189       Equatorial Guinea  \n",
       "24775        Equatorial Guinea  "
      ]
     },
     "execution_count": 69,
     "metadata": {},
     "output_type": "execute_result"
    }
   ],
   "source": [
    "df.sample(5)"
   ]
  },
  {
   "cell_type": "code",
   "execution_count": 70,
   "id": "f36ca5f7-2dcd-4164-953b-d748a955aefe",
   "metadata": {},
   "outputs": [
    {
     "data": {
      "text/plain": [
       "243"
      ]
     },
     "execution_count": 70,
     "metadata": {},
     "output_type": "execute_result"
    }
   ],
   "source": [
    "df.country.nunique()"
   ]
  },
  {
   "cell_type": "code",
   "execution_count": 77,
   "id": "56a57c6d-5bf6-4056-998f-4b9e648004e1",
   "metadata": {},
   "outputs": [
    {
     "data": {
      "text/plain": [
       "country\n",
       "Afghanistan          8044\n",
       "Albania              8135\n",
       "Algeria              8017\n",
       "American Samoa       8262\n",
       "Andorra              8124\n",
       "                     ... \n",
       "Wallis and Futuna    8189\n",
       "Western Sahara       8312\n",
       "Yemen                8099\n",
       "Zambia               8104\n",
       "Zimbabwe             8111\n",
       "Name: Employee_ID, Length: 243, dtype: int64"
      ]
     },
     "execution_count": 77,
     "metadata": {},
     "output_type": "execute_result"
    }
   ],
   "source": [
    "xx=df.groupby(\"country\")[\"Employee_ID\"].count()\n",
    "xx"
   ]
  },
  {
   "cell_type": "code",
   "execution_count": 83,
   "id": "ac96396c-ec06-4401-b964-82d715ae1c9f",
   "metadata": {},
   "outputs": [
    {
     "data": {
      "text/plain": [
       "country\n",
       "Congo                     16286\n",
       "Korea                     16285\n",
       "Sri Lanka                  8409\n",
       "Switzerland                8391\n",
       "British Virgin Islands     8373\n",
       "                          ...  \n",
       "Indonesia                  7983\n",
       "Kazakhstan                 7973\n",
       "Montenegro                 7972\n",
       "Bhutan                     7971\n",
       "Palestinian Territory      7895\n",
       "Name: count, Length: 243, dtype: int64"
      ]
     },
     "execution_count": 83,
     "metadata": {},
     "output_type": "execute_result"
    }
   ],
   "source": [
    "df[\"country\"].value_counts()"
   ]
  },
  {
   "cell_type": "markdown",
   "id": "acbc91b8-6288-4369-9d99-220c67b26bb0",
   "metadata": {},
   "source": [
    "## Q-11) Is there any correlation bt performnace rating and salary?"
   ]
  },
  {
   "cell_type": "code",
   "execution_count": 84,
   "id": "b442bbe0-9e38-453d-a7ed-d4ec11d12d2b",
   "metadata": {},
   "outputs": [
    {
     "data": {
      "text/html": [
       "<div>\n",
       "<style scoped>\n",
       "    .dataframe tbody tr th:only-of-type {\n",
       "        vertical-align: middle;\n",
       "    }\n",
       "\n",
       "    .dataframe tbody tr th {\n",
       "        vertical-align: top;\n",
       "    }\n",
       "\n",
       "    .dataframe thead th {\n",
       "        text-align: right;\n",
       "    }\n",
       "</style>\n",
       "<table border=\"1\" class=\"dataframe\">\n",
       "  <thead>\n",
       "    <tr style=\"text-align: right;\">\n",
       "      <th></th>\n",
       "      <th>Employee_ID</th>\n",
       "      <th>Full_Name</th>\n",
       "      <th>Department</th>\n",
       "      <th>Job_Title</th>\n",
       "      <th>Hire_Date</th>\n",
       "      <th>Location</th>\n",
       "      <th>Performance_Rating</th>\n",
       "      <th>Experience_Years</th>\n",
       "      <th>Status</th>\n",
       "      <th>Work_Mode</th>\n",
       "      <th>Salary_INR</th>\n",
       "      <th>country</th>\n",
       "    </tr>\n",
       "  </thead>\n",
       "  <tbody>\n",
       "    <tr>\n",
       "      <th>0</th>\n",
       "      <td>EMP0000001</td>\n",
       "      <td>Joshua Nguyen</td>\n",
       "      <td>IT</td>\n",
       "      <td>Software Engineer</td>\n",
       "      <td>2011-08-10</td>\n",
       "      <td>Isaacland, Denmark</td>\n",
       "      <td>5</td>\n",
       "      <td>14</td>\n",
       "      <td>Resigned</td>\n",
       "      <td>On-site</td>\n",
       "      <td>1585363</td>\n",
       "      <td>Denmark</td>\n",
       "    </tr>\n",
       "    <tr>\n",
       "      <th>1</th>\n",
       "      <td>EMP0000002</td>\n",
       "      <td>Julie Williams</td>\n",
       "      <td>Marketing</td>\n",
       "      <td>SEO Specialist</td>\n",
       "      <td>2018-03-02</td>\n",
       "      <td>Anthonyside, Costa Rica</td>\n",
       "      <td>2</td>\n",
       "      <td>7</td>\n",
       "      <td>Active</td>\n",
       "      <td>On-site</td>\n",
       "      <td>847686</td>\n",
       "      <td>Costa Rica</td>\n",
       "    </tr>\n",
       "    <tr>\n",
       "      <th>2</th>\n",
       "      <td>EMP0000003</td>\n",
       "      <td>Alyssa Martinez</td>\n",
       "      <td>HR</td>\n",
       "      <td>HR Manager</td>\n",
       "      <td>2023-03-20</td>\n",
       "      <td>Port Christinaport, Saudi Arabia</td>\n",
       "      <td>1</td>\n",
       "      <td>2</td>\n",
       "      <td>Active</td>\n",
       "      <td>On-site</td>\n",
       "      <td>1430084</td>\n",
       "      <td>Saudi Arabia</td>\n",
       "    </tr>\n",
       "    <tr>\n",
       "      <th>3</th>\n",
       "      <td>EMP0000004</td>\n",
       "      <td>Nicholas Valdez</td>\n",
       "      <td>IT</td>\n",
       "      <td>Software Engineer</td>\n",
       "      <td>2023-10-12</td>\n",
       "      <td>Port Shelbychester, Antigua and Barbuda</td>\n",
       "      <td>1</td>\n",
       "      <td>1</td>\n",
       "      <td>Active</td>\n",
       "      <td>On-site</td>\n",
       "      <td>990689</td>\n",
       "      <td>Antigua and Barbuda</td>\n",
       "    </tr>\n",
       "    <tr>\n",
       "      <th>4</th>\n",
       "      <td>EMP0000005</td>\n",
       "      <td>Joel Hendricks</td>\n",
       "      <td>Operations</td>\n",
       "      <td>Logistics Coordinator</td>\n",
       "      <td>2024-12-09</td>\n",
       "      <td>Lake Kimberly, Palestinian Territory</td>\n",
       "      <td>5</td>\n",
       "      <td>0</td>\n",
       "      <td>Active</td>\n",
       "      <td>On-site</td>\n",
       "      <td>535082</td>\n",
       "      <td>Palestinian Territory</td>\n",
       "    </tr>\n",
       "  </tbody>\n",
       "</table>\n",
       "</div>"
      ],
      "text/plain": [
       "  Employee_ID        Full_Name  Department              Job_Title  Hire_Date  \\\n",
       "0  EMP0000001    Joshua Nguyen          IT      Software Engineer 2011-08-10   \n",
       "1  EMP0000002   Julie Williams   Marketing         SEO Specialist 2018-03-02   \n",
       "2  EMP0000003  Alyssa Martinez          HR             HR Manager 2023-03-20   \n",
       "3  EMP0000004  Nicholas Valdez          IT      Software Engineer 2023-10-12   \n",
       "4  EMP0000005   Joel Hendricks  Operations  Logistics Coordinator 2024-12-09   \n",
       "\n",
       "                                  Location  Performance_Rating  \\\n",
       "0                       Isaacland, Denmark                   5   \n",
       "1                  Anthonyside, Costa Rica                   2   \n",
       "2         Port Christinaport, Saudi Arabia                   1   \n",
       "3  Port Shelbychester, Antigua and Barbuda                   1   \n",
       "4     Lake Kimberly, Palestinian Territory                   5   \n",
       "\n",
       "   Experience_Years    Status Work_Mode  Salary_INR                country  \n",
       "0                14  Resigned   On-site     1585363                Denmark  \n",
       "1                 7    Active   On-site      847686             Costa Rica  \n",
       "2                 2    Active   On-site     1430084           Saudi Arabia  \n",
       "3                 1    Active   On-site      990689    Antigua and Barbuda  \n",
       "4                 0    Active   On-site      535082  Palestinian Territory  "
      ]
     },
     "execution_count": 84,
     "metadata": {},
     "output_type": "execute_result"
    }
   ],
   "source": [
    "df.head()"
   ]
  },
  {
   "cell_type": "code",
   "execution_count": 87,
   "id": "fc25bddb-31d7-4622-8b1b-451856f0e9e5",
   "metadata": {},
   "outputs": [
    {
     "data": {
      "text/plain": [
       "Performance_Rating\n",
       "1    897349.444173\n",
       "2    896712.984404\n",
       "3    896273.208980\n",
       "4    897389.988453\n",
       "5    896712.440343\n",
       "Name: Salary_INR, dtype: float64"
      ]
     },
     "execution_count": 87,
     "metadata": {},
     "output_type": "execute_result"
    }
   ],
   "source": [
    "cr=df.groupby(\"Performance_Rating\")[\"Salary_INR\"].mean()\n",
    "cr"
   ]
  },
  {
   "cell_type": "code",
   "execution_count": 88,
   "id": "9a62cc5e-7a3b-4b8f-b09d-7e54fe80092b",
   "metadata": {},
   "outputs": [
    {
     "data": {
      "text/plain": [
       "<Axes: xlabel='Performance_Rating'>"
      ]
     },
     "execution_count": 88,
     "metadata": {},
     "output_type": "execute_result"
    },
    {
     "data": {
      "image/png": "[encoded data removed]",
      "text/plain": [
       "<Figure size 640x480 with 1 Axes>"
      ]
     },
     "metadata": {},
     "output_type": "display_data"
    }
   ],
   "source": [
    "sns.scatterplot(x=cr.index,y=cr.values)"
   ]
  },
  {
   "cell_type": "code",
   "execution_count": 89,
   "id": "6f6fa4ce-19ad-4169-9076-c1967e3c98ac",
   "metadata": {},
   "outputs": [
    {
     "data": {
      "text/plain": [
       "np.float64(-0.00020919799940916518)"
      ]
     },
     "execution_count": 89,
     "metadata": {},
     "output_type": "execute_result"
    }
   ],
   "source": [
    "# using corr fn direct\n",
    "\n",
    "df[\"Performance_Rating\"].corr(df[\"Salary_INR\"])\n",
    "#hence there is no correlation"
   ]
  },
  {
   "cell_type": "markdown",
   "id": "6695d99a-be31-4926-a736-a8584e66597f",
   "metadata": {},
   "source": [
    "## Q-12) How has the no. of hired chnaged over time(per year)?"
   ]
  },
  {
   "cell_type": "code",
   "execution_count": 90,
   "id": "1b5b0a67-e71c-4fa9-bb80-4a5ae49b864f",
   "metadata": {},
   "outputs": [
    {
     "data": {
      "text/html": [
       "<div>\n",
       "<style scoped>\n",
       "    .dataframe tbody tr th:only-of-type {\n",
       "        vertical-align: middle;\n",
       "    }\n",
       "\n",
       "    .dataframe tbody tr th {\n",
       "        vertical-align: top;\n",
       "    }\n",
       "\n",
       "    .dataframe thead th {\n",
       "        text-align: right;\n",
       "    }\n",
       "</style>\n",
       "<table border=\"1\" class=\"dataframe\">\n",
       "  <thead>\n",
       "    <tr style=\"text-align: right;\">\n",
       "      <th></th>\n",
       "      <th>Employee_ID</th>\n",
       "      <th>Full_Name</th>\n",
       "      <th>Department</th>\n",
       "      <th>Job_Title</th>\n",
       "      <th>Hire_Date</th>\n",
       "      <th>Location</th>\n",
       "      <th>Performance_Rating</th>\n",
       "      <th>Experience_Years</th>\n",
       "      <th>Status</th>\n",
       "      <th>Work_Mode</th>\n",
       "      <th>Salary_INR</th>\n",
       "      <th>country</th>\n",
       "    </tr>\n",
       "  </thead>\n",
       "  <tbody>\n",
       "    <tr>\n",
       "      <th>0</th>\n",
       "      <td>EMP0000001</td>\n",
       "      <td>Joshua Nguyen</td>\n",
       "      <td>IT</td>\n",
       "      <td>Software Engineer</td>\n",
       "      <td>2011-08-10</td>\n",
       "      <td>Isaacland, Denmark</td>\n",
       "      <td>5</td>\n",
       "      <td>14</td>\n",
       "      <td>Resigned</td>\n",
       "      <td>On-site</td>\n",
       "      <td>1585363</td>\n",
       "      <td>Denmark</td>\n",
       "    </tr>\n",
       "    <tr>\n",
       "      <th>1</th>\n",
       "      <td>EMP0000002</td>\n",
       "      <td>Julie Williams</td>\n",
       "      <td>Marketing</td>\n",
       "      <td>SEO Specialist</td>\n",
       "      <td>2018-03-02</td>\n",
       "      <td>Anthonyside, Costa Rica</td>\n",
       "      <td>2</td>\n",
       "      <td>7</td>\n",
       "      <td>Active</td>\n",
       "      <td>On-site</td>\n",
       "      <td>847686</td>\n",
       "      <td>Costa Rica</td>\n",
       "    </tr>\n",
       "    <tr>\n",
       "      <th>2</th>\n",
       "      <td>EMP0000003</td>\n",
       "      <td>Alyssa Martinez</td>\n",
       "      <td>HR</td>\n",
       "      <td>HR Manager</td>\n",
       "      <td>2023-03-20</td>\n",
       "      <td>Port Christinaport, Saudi Arabia</td>\n",
       "      <td>1</td>\n",
       "      <td>2</td>\n",
       "      <td>Active</td>\n",
       "      <td>On-site</td>\n",
       "      <td>1430084</td>\n",
       "      <td>Saudi Arabia</td>\n",
       "    </tr>\n",
       "    <tr>\n",
       "      <th>3</th>\n",
       "      <td>EMP0000004</td>\n",
       "      <td>Nicholas Valdez</td>\n",
       "      <td>IT</td>\n",
       "      <td>Software Engineer</td>\n",
       "      <td>2023-10-12</td>\n",
       "      <td>Port Shelbychester, Antigua and Barbuda</td>\n",
       "      <td>1</td>\n",
       "      <td>1</td>\n",
       "      <td>Active</td>\n",
       "      <td>On-site</td>\n",
       "      <td>990689</td>\n",
       "      <td>Antigua and Barbuda</td>\n",
       "    </tr>\n",
       "    <tr>\n",
       "      <th>4</th>\n",
       "      <td>EMP0000005</td>\n",
       "      <td>Joel Hendricks</td>\n",
       "      <td>Operations</td>\n",
       "      <td>Logistics Coordinator</td>\n",
       "      <td>2024-12-09</td>\n",
       "      <td>Lake Kimberly, Palestinian Territory</td>\n",
       "      <td>5</td>\n",
       "      <td>0</td>\n",
       "      <td>Active</td>\n",
       "      <td>On-site</td>\n",
       "      <td>535082</td>\n",
       "      <td>Palestinian Territory</td>\n",
       "    </tr>\n",
       "  </tbody>\n",
       "</table>\n",
       "</div>"
      ],
      "text/plain": [
       "  Employee_ID        Full_Name  Department              Job_Title  Hire_Date  \\\n",
       "0  EMP0000001    Joshua Nguyen          IT      Software Engineer 2011-08-10   \n",
       "1  EMP0000002   Julie Williams   Marketing         SEO Specialist 2018-03-02   \n",
       "2  EMP0000003  Alyssa Martinez          HR             HR Manager 2023-03-20   \n",
       "3  EMP0000004  Nicholas Valdez          IT      Software Engineer 2023-10-12   \n",
       "4  EMP0000005   Joel Hendricks  Operations  Logistics Coordinator 2024-12-09   \n",
       "\n",
       "                                  Location  Performance_Rating  \\\n",
       "0                       Isaacland, Denmark                   5   \n",
       "1                  Anthonyside, Costa Rica                   2   \n",
       "2         Port Christinaport, Saudi Arabia                   1   \n",
       "3  Port Shelbychester, Antigua and Barbuda                   1   \n",
       "4     Lake Kimberly, Palestinian Territory                   5   \n",
       "\n",
       "   Experience_Years    Status Work_Mode  Salary_INR                country  \n",
       "0                14  Resigned   On-site     1585363                Denmark  \n",
       "1                 7    Active   On-site      847686             Costa Rica  \n",
       "2                 2    Active   On-site     1430084           Saudi Arabia  \n",
       "3                 1    Active   On-site      990689    Antigua and Barbuda  \n",
       "4                 0    Active   On-site      535082  Palestinian Territory  "
      ]
     },
     "execution_count": 90,
     "metadata": {},
     "output_type": "execute_result"
    }
   ],
   "source": [
    "df.head()"
   ]
  },
  {
   "cell_type": "code",
   "execution_count": 95,
   "id": "bfca8a68-dcac-43f8-9252-63f04683b0e5",
   "metadata": {},
   "outputs": [
    {
     "ename": "ValueError",
     "evalue": "cannot insert Hire_Year, already exists",
     "output_type": "error",
     "traceback": [
      "\u001b[1;31m---------------------------------------------------------------------------\u001b[0m",
      "\u001b[1;31mValueError\u001b[0m                                Traceback (most recent call last)",
      "\u001b[1;32m~\\AppData\\Local\\Temp\\ipykernel_23748\\1089139459.py\u001b[0m in \u001b[0;36m?\u001b[1;34m()\u001b[0m\n\u001b[1;32m----> 1\u001b[1;33m \u001b[0mdf\u001b[0m\u001b[1;33m.\u001b[0m\u001b[0minsert\u001b[0m\u001b[1;33m(\u001b[0m\u001b[1;36m5\u001b[0m\u001b[1;33m,\u001b[0m \u001b[1;34m\"Hire_Year\"\u001b[0m\u001b[1;33m,\u001b[0m \u001b[0mpd\u001b[0m\u001b[1;33m.\u001b[0m\u001b[0mto_datetime\u001b[0m\u001b[1;33m(\u001b[0m\u001b[0mdf\u001b[0m\u001b[1;33m[\u001b[0m\u001b[1;34m\"Hire_Date\"\u001b[0m\u001b[1;33m]\u001b[0m\u001b[1;33m)\u001b[0m\u001b[1;33m.\u001b[0m\u001b[0mdt\u001b[0m\u001b[1;33m.\u001b[0m\u001b[0myear\u001b[0m\u001b[1;33m)\u001b[0m\u001b[1;33m\u001b[0m\u001b[1;33m\u001b[0m\u001b[0m\n\u001b[0m\u001b[0;32m      2\u001b[0m \u001b[0mdf\u001b[0m\u001b[1;33m\u001b[0m\u001b[1;33m\u001b[0m\u001b[0m\n",
      "\u001b[1;32m~\\AppData\\Roaming\\Python\\Python313\\site-packages\\pandas\\core\\frame.py\u001b[0m in \u001b[0;36m?\u001b[1;34m(self, loc, column, value, allow_duplicates)\u001b[0m\n\u001b[0;32m   5154\u001b[0m                 \u001b[1;34m\"'self.flags.allows_duplicate_labels' is False.\"\u001b[0m\u001b[1;33m\u001b[0m\u001b[1;33m\u001b[0m\u001b[0m\n\u001b[0;32m   5155\u001b[0m             \u001b[1;33m)\u001b[0m\u001b[1;33m\u001b[0m\u001b[1;33m\u001b[0m\u001b[0m\n\u001b[0;32m   5156\u001b[0m         \u001b[1;32mif\u001b[0m \u001b[1;32mnot\u001b[0m \u001b[0mallow_duplicates\u001b[0m \u001b[1;32mand\u001b[0m \u001b[0mcolumn\u001b[0m \u001b[1;32min\u001b[0m \u001b[0mself\u001b[0m\u001b[1;33m.\u001b[0m\u001b[0mcolumns\u001b[0m\u001b[1;33m:\u001b[0m\u001b[1;33m\u001b[0m\u001b[1;33m\u001b[0m\u001b[0m\n\u001b[0;32m   5157\u001b[0m             \u001b[1;31m# Should this be a different kind of error??\u001b[0m\u001b[1;33m\u001b[0m\u001b[1;33m\u001b[0m\u001b[0m\n\u001b[1;32m-> 5158\u001b[1;33m             \u001b[1;32mraise\u001b[0m \u001b[0mValueError\u001b[0m\u001b[1;33m(\u001b[0m\u001b[1;33mf\"\u001b[0m\u001b[1;33mcannot insert \u001b[0m\u001b[1;33m{\u001b[0m\u001b[0mcolumn\u001b[0m\u001b[1;33m}\u001b[0m\u001b[1;33m, already exists\u001b[0m\u001b[1;33m\"\u001b[0m\u001b[1;33m)\u001b[0m\u001b[1;33m\u001b[0m\u001b[1;33m\u001b[0m\u001b[0m\n\u001b[0m\u001b[0;32m   5159\u001b[0m         \u001b[1;32mif\u001b[0m \u001b[1;32mnot\u001b[0m \u001b[0mis_integer\u001b[0m\u001b[1;33m(\u001b[0m\u001b[0mloc\u001b[0m\u001b[1;33m)\u001b[0m\u001b[1;33m:\u001b[0m\u001b[1;33m\u001b[0m\u001b[1;33m\u001b[0m\u001b[0m\n\u001b[0;32m   5160\u001b[0m             \u001b[1;32mraise\u001b[0m \u001b[0mTypeError\u001b[0m\u001b[1;33m(\u001b[0m\u001b[1;34m\"loc must be int\"\u001b[0m\u001b[1;33m)\u001b[0m\u001b[1;33m\u001b[0m\u001b[1;33m\u001b[0m\u001b[0m\n\u001b[0;32m   5161\u001b[0m         \u001b[1;31m# convert non stdlib ints to satisfy typing checks\u001b[0m\u001b[1;33m\u001b[0m\u001b[1;33m\u001b[0m\u001b[0m\n",
      "\u001b[1;31mValueError\u001b[0m: cannot insert Hire_Year, already exists"
     ]
    }
   ],
   "source": [
    "df.insert(5, \"Hire_Year\", pd.to_datetime(df[\"Hire_Date\"]).dt.year)\n"
   ]
  },
  {
   "cell_type": "code",
   "execution_count": 97,
   "id": "9f107bc5-a501-4973-8dca-701efe0b69b5",
   "metadata": {},
   "outputs": [
    {
     "data": {
      "text/html": [
       "<div>\n",
       "<style scoped>\n",
       "    .dataframe tbody tr th:only-of-type {\n",
       "        vertical-align: middle;\n",
       "    }\n",
       "\n",
       "    .dataframe tbody tr th {\n",
       "        vertical-align: top;\n",
       "    }\n",
       "\n",
       "    .dataframe thead th {\n",
       "        text-align: right;\n",
       "    }\n",
       "</style>\n",
       "<table border=\"1\" class=\"dataframe\">\n",
       "  <thead>\n",
       "    <tr style=\"text-align: right;\">\n",
       "      <th></th>\n",
       "      <th>Employee_ID</th>\n",
       "      <th>Full_Name</th>\n",
       "      <th>Department</th>\n",
       "      <th>Job_Title</th>\n",
       "      <th>Hire_Date</th>\n",
       "      <th>Hire_Year</th>\n",
       "      <th>Location</th>\n",
       "      <th>Performance_Rating</th>\n",
       "      <th>Experience_Years</th>\n",
       "      <th>Status</th>\n",
       "      <th>Work_Mode</th>\n",
       "      <th>Salary_INR</th>\n",
       "      <th>country</th>\n",
       "    </tr>\n",
       "  </thead>\n",
       "  <tbody>\n",
       "    <tr>\n",
       "      <th>0</th>\n",
       "      <td>EMP0000001</td>\n",
       "      <td>Joshua Nguyen</td>\n",
       "      <td>IT</td>\n",
       "      <td>Software Engineer</td>\n",
       "      <td>2011-08-10</td>\n",
       "      <td>2011</td>\n",
       "      <td>Isaacland, Denmark</td>\n",
       "      <td>5</td>\n",
       "      <td>14</td>\n",
       "      <td>Resigned</td>\n",
       "      <td>On-site</td>\n",
       "      <td>1585363</td>\n",
       "      <td>Denmark</td>\n",
       "    </tr>\n",
       "    <tr>\n",
       "      <th>1</th>\n",
       "      <td>EMP0000002</td>\n",
       "      <td>Julie Williams</td>\n",
       "      <td>Marketing</td>\n",
       "      <td>SEO Specialist</td>\n",
       "      <td>2018-03-02</td>\n",
       "      <td>2018</td>\n",
       "      <td>Anthonyside, Costa Rica</td>\n",
       "      <td>2</td>\n",
       "      <td>7</td>\n",
       "      <td>Active</td>\n",
       "      <td>On-site</td>\n",
       "      <td>847686</td>\n",
       "      <td>Costa Rica</td>\n",
       "    </tr>\n",
       "  </tbody>\n",
       "</table>\n",
       "</div>"
      ],
      "text/plain": [
       "  Employee_ID       Full_Name Department          Job_Title  Hire_Date  \\\n",
       "0  EMP0000001   Joshua Nguyen         IT  Software Engineer 2011-08-10   \n",
       "1  EMP0000002  Julie Williams  Marketing     SEO Specialist 2018-03-02   \n",
       "\n",
       "   Hire_Year                 Location  Performance_Rating  Experience_Years  \\\n",
       "0       2011       Isaacland, Denmark                   5                14   \n",
       "1       2018  Anthonyside, Costa Rica                   2                 7   \n",
       "\n",
       "     Status Work_Mode  Salary_INR     country  \n",
       "0  Resigned   On-site     1585363     Denmark  \n",
       "1    Active   On-site      847686  Costa Rica  "
      ]
     },
     "execution_count": 97,
     "metadata": {},
     "output_type": "execute_result"
    }
   ],
   "source": [
    "df.head(2)"
   ]
  },
  {
   "cell_type": "code",
   "execution_count": 99,
   "id": "c9b2661d-088d-4b0f-bf01-0ae5b8443b38",
   "metadata": {},
   "outputs": [
    {
     "data": {
      "text/plain": [
       "array([2011, 2018, 2023, 2024, 2021, 2016, 2020, 2015, 2025, 2022, 2017,\n",
       "       2019, 2014, 2013, 2012, 2010], dtype=int32)"
      ]
     },
     "execution_count": 99,
     "metadata": {},
     "output_type": "execute_result"
    }
   ],
   "source": [
    "df.Hire_Year.unique()"
   ]
  },
  {
   "cell_type": "code",
   "execution_count": 100,
   "id": "251996cf-bf0c-4ba1-aed9-fb90bc4b2a03",
   "metadata": {},
   "outputs": [
    {
     "data": {
      "text/plain": [
       "16"
      ]
     },
     "execution_count": 100,
     "metadata": {},
     "output_type": "execute_result"
    }
   ],
   "source": [
    "df.Hire_Year.nunique()"
   ]
  },
  {
   "cell_type": "code",
   "execution_count": 103,
   "id": "67232a17-ad65-4995-89a8-c2f856a42fd2",
   "metadata": {},
   "outputs": [
    {
     "data": {
      "text/plain": [
       "Hire_Year\n",
       "2010     15520\n",
       "2011     40089\n",
       "2012     39765\n",
       "2013     39988\n",
       "2014     40202\n",
       "2015     85984\n",
       "2016    160249\n",
       "2017    160363\n",
       "2018    159658\n",
       "2019    160202\n",
       "2020    175460\n",
       "2021    199366\n",
       "2022    201373\n",
       "2023    198982\n",
       "2024    200001\n",
       "2025    122798\n",
       "Name: Employee_ID, dtype: int64"
      ]
     },
     "execution_count": 103,
     "metadata": {},
     "output_type": "execute_result"
    }
   ],
   "source": [
    "hireyear=df.groupby(\"Hire_Year\")[\"Employee_ID\"].count()\n",
    "hireyear"
   ]
  },
  {
   "cell_type": "code",
   "execution_count": 105,
   "id": "c19659a9-49cd-422b-a498-4ef6e8e07b96",
   "metadata": {},
   "outputs": [
    {
     "data": {
      "image/png": "[encoded data removed]",
      "text/plain": [
       "<Figure size 1000x600 with 1 Axes>"
      ]
     },
     "metadata": {},
     "output_type": "display_data"
    }
   ],
   "source": [
    "#shoowing with line chart\n",
    "\n",
    "hireyear.plot(kind='line', marker='o', figsize=(10,6))\n",
    "plt.title(\"Employees Hired per Year\")\n",
    "plt.xlabel(\"Hire Year\")\n",
    "plt.ylabel(\"Number of Employees\")\n",
    "plt.grid(True)\n",
    "plt.show()\n"
   ]
  },
  {
   "cell_type": "code",
   "execution_count": 107,
   "id": "13fa4532-b5e6-4e8e-8f60-55006ca5245f",
   "metadata": {},
   "outputs": [
    {
     "data": {
      "image/png": "[encoded data removed]",
      "text/plain": [
       "<Figure size 1000x600 with 1 Axes>"
      ]
     },
     "metadata": {},
     "output_type": "display_data"
    }
   ],
   "source": [
    " #showing with bar chart\n",
    "\n",
    "hireyear.plot(kind='bar', figsize=(10,6), color=\"skyblue\")\n",
    "plt.title(\"Employees Hired per Year\")\n",
    "plt.xlabel(\"Hire Year\")\n",
    "plt.ylabel(\"Number of Employees\")\n",
    "plt.grid()\n",
    "plt.show()\n"
   ]
  },
  {
   "cell_type": "markdown",
   "id": "c6271d17-ba4b-4502-a6ef-d9229e93a4ce",
   "metadata": {},
   "source": [
    "## Q-13) compare the salary of remote and onsite empployees--is there any significant diff?"
   ]
  },
  {
   "cell_type": "code",
   "execution_count": 108,
   "id": "b3593359-bcd9-4dc8-a13a-585bec43c972",
   "metadata": {},
   "outputs": [
    {
     "data": {
      "text/html": [
       "<div>\n",
       "<style scoped>\n",
       "    .dataframe tbody tr th:only-of-type {\n",
       "        vertical-align: middle;\n",
       "    }\n",
       "\n",
       "    .dataframe tbody tr th {\n",
       "        vertical-align: top;\n",
       "    }\n",
       "\n",
       "    .dataframe thead th {\n",
       "        text-align: right;\n",
       "    }\n",
       "</style>\n",
       "<table border=\"1\" class=\"dataframe\">\n",
       "  <thead>\n",
       "    <tr style=\"text-align: right;\">\n",
       "      <th></th>\n",
       "      <th>Employee_ID</th>\n",
       "      <th>Full_Name</th>\n",
       "      <th>Department</th>\n",
       "      <th>Job_Title</th>\n",
       "      <th>Hire_Date</th>\n",
       "      <th>Hire_Year</th>\n",
       "      <th>Location</th>\n",
       "      <th>Performance_Rating</th>\n",
       "      <th>Experience_Years</th>\n",
       "      <th>Status</th>\n",
       "      <th>Work_Mode</th>\n",
       "      <th>Salary_INR</th>\n",
       "      <th>country</th>\n",
       "    </tr>\n",
       "  </thead>\n",
       "  <tbody>\n",
       "    <tr>\n",
       "      <th>236766</th>\n",
       "      <td>EMP0236767</td>\n",
       "      <td>Mark Walters</td>\n",
       "      <td>Operations</td>\n",
       "      <td>Supply Chain Manager</td>\n",
       "      <td>2020-04-23</td>\n",
       "      <td>2020</td>\n",
       "      <td>South Tiffany, Saint Helena</td>\n",
       "      <td>4</td>\n",
       "      <td>5</td>\n",
       "      <td>Resigned</td>\n",
       "      <td>On-site</td>\n",
       "      <td>476588</td>\n",
       "      <td>Saint Helena</td>\n",
       "    </tr>\n",
       "    <tr>\n",
       "      <th>1298140</th>\n",
       "      <td>EMP1298141</td>\n",
       "      <td>Dana Avery</td>\n",
       "      <td>Finance</td>\n",
       "      <td>Finance Manager</td>\n",
       "      <td>2023-03-14</td>\n",
       "      <td>2023</td>\n",
       "      <td>Port Karen, Kiribati</td>\n",
       "      <td>2</td>\n",
       "      <td>2</td>\n",
       "      <td>Active</td>\n",
       "      <td>Remote</td>\n",
       "      <td>1561069</td>\n",
       "      <td>Kiribati</td>\n",
       "    </tr>\n",
       "    <tr>\n",
       "      <th>1940104</th>\n",
       "      <td>EMP1940105</td>\n",
       "      <td>Martha Walters</td>\n",
       "      <td>Marketing</td>\n",
       "      <td>Marketing Executive</td>\n",
       "      <td>2018-11-23</td>\n",
       "      <td>2018</td>\n",
       "      <td>West Jamesfurt, Nicaragua</td>\n",
       "      <td>4</td>\n",
       "      <td>6</td>\n",
       "      <td>Resigned</td>\n",
       "      <td>On-site</td>\n",
       "      <td>1198535</td>\n",
       "      <td>Nicaragua</td>\n",
       "    </tr>\n",
       "  </tbody>\n",
       "</table>\n",
       "</div>"
      ],
      "text/plain": [
       "        Employee_ID       Full_Name  Department             Job_Title  \\\n",
       "236766   EMP0236767    Mark Walters  Operations  Supply Chain Manager   \n",
       "1298140  EMP1298141      Dana Avery     Finance       Finance Manager   \n",
       "1940104  EMP1940105  Martha Walters   Marketing   Marketing Executive   \n",
       "\n",
       "         Hire_Date  Hire_Year                     Location  \\\n",
       "236766  2020-04-23       2020  South Tiffany, Saint Helena   \n",
       "1298140 2023-03-14       2023         Port Karen, Kiribati   \n",
       "1940104 2018-11-23       2018    West Jamesfurt, Nicaragua   \n",
       "\n",
       "         Performance_Rating  Experience_Years    Status Work_Mode  Salary_INR  \\\n",
       "236766                    4                 5  Resigned   On-site      476588   \n",
       "1298140                   2                 2    Active    Remote     1561069   \n",
       "1940104                   4                 6  Resigned   On-site     1198535   \n",
       "\n",
       "              country  \n",
       "236766   Saint Helena  \n",
       "1298140      Kiribati  \n",
       "1940104     Nicaragua  "
      ]
     },
     "execution_count": 108,
     "metadata": {},
     "output_type": "execute_result"
    }
   ],
   "source": [
    "df.sample(3)"
   ]
  },
  {
   "cell_type": "code",
   "execution_count": 109,
   "id": "0ae3b031-dc1f-46c6-b000-c44b62b1bf72",
   "metadata": {},
   "outputs": [
    {
     "data": {
      "text/plain": [
       "array(['On-site', 'Remote'], dtype=object)"
      ]
     },
     "execution_count": 109,
     "metadata": {},
     "output_type": "execute_result"
    }
   ],
   "source": [
    "df[\"Work_Mode\"].unique()"
   ]
  },
  {
   "cell_type": "code",
   "execution_count": 111,
   "id": "88c6cb22-9f5d-4b90-901f-773ba89fc202",
   "metadata": {},
   "outputs": [
    {
     "data": {
      "text/plain": [
       "Work_Mode\n",
       "On-site    896835.945792\n",
       "Remote     896965.326373\n",
       "Name: Salary_INR, dtype: float64"
      ]
     },
     "execution_count": 111,
     "metadata": {},
     "output_type": "execute_result"
    }
   ],
   "source": [
    "ws=df.groupby(\"Work_Mode\")[\"Salary_INR\"].mean()\n",
    "ws"
   ]
  },
  {
   "cell_type": "code",
   "execution_count": 115,
   "id": "8195ae64-078a-45a0-ac4f-331c113fc885",
   "metadata": {},
   "outputs": [
    {
     "data": {
      "image/png": "[encoded data removed]",
      "text/plain": [
       "<Figure size 600x600 with 1 Axes>"
      ]
     },
     "metadata": {},
     "output_type": "display_data"
    }
   ],
   "source": [
    "# Plot pie chart with better style\n",
    "plt.figure(figsize=(6,6))\n",
    "ws.plot(\n",
    "    kind=\"pie\",\n",
    "    autopct=\"%.2f%%\",     # show percentages\n",
    "    startangle=90,        # rotate for better view\n",
    "    colors=[\"skyblue\", \"orange\"], # custom colors\n",
    "    explode=[0.05, 0.05], # slight separation\n",
    "    ylabel=\"\"             # remove 'Salary_INR' label\n",
    ")\n",
    "\n",
    "plt.title(\"Average Salary by Work Mode\", fontsize=14, fontweight=\"bold\")\n",
    "plt.show()\n"
   ]
  },
  {
   "cell_type": "markdown",
   "id": "eafe11de-e1a9-4d67-a7f5-0824c3335874",
   "metadata": {},
   "source": [
    "## Q-14) Find the top 10 employees in each dept"
   ]
  },
  {
   "cell_type": "code",
   "execution_count": 116,
   "id": "b91cfd8d-f347-4c3b-a75b-4382ae810ebd",
   "metadata": {},
   "outputs": [
    {
     "data": {
      "text/html": [
       "<div>\n",
       "<style scoped>\n",
       "    .dataframe tbody tr th:only-of-type {\n",
       "        vertical-align: middle;\n",
       "    }\n",
       "\n",
       "    .dataframe tbody tr th {\n",
       "        vertical-align: top;\n",
       "    }\n",
       "\n",
       "    .dataframe thead th {\n",
       "        text-align: right;\n",
       "    }\n",
       "</style>\n",
       "<table border=\"1\" class=\"dataframe\">\n",
       "  <thead>\n",
       "    <tr style=\"text-align: right;\">\n",
       "      <th></th>\n",
       "      <th>Employee_ID</th>\n",
       "      <th>Full_Name</th>\n",
       "      <th>Department</th>\n",
       "      <th>Job_Title</th>\n",
       "      <th>Hire_Date</th>\n",
       "      <th>Hire_Year</th>\n",
       "      <th>Location</th>\n",
       "      <th>Performance_Rating</th>\n",
       "      <th>Experience_Years</th>\n",
       "      <th>Status</th>\n",
       "      <th>Work_Mode</th>\n",
       "      <th>Salary_INR</th>\n",
       "      <th>country</th>\n",
       "    </tr>\n",
       "  </thead>\n",
       "  <tbody>\n",
       "    <tr>\n",
       "      <th>0</th>\n",
       "      <td>EMP0000001</td>\n",
       "      <td>Joshua Nguyen</td>\n",
       "      <td>IT</td>\n",
       "      <td>Software Engineer</td>\n",
       "      <td>2011-08-10</td>\n",
       "      <td>2011</td>\n",
       "      <td>Isaacland, Denmark</td>\n",
       "      <td>5</td>\n",
       "      <td>14</td>\n",
       "      <td>Resigned</td>\n",
       "      <td>On-site</td>\n",
       "      <td>1585363</td>\n",
       "      <td>Denmark</td>\n",
       "    </tr>\n",
       "    <tr>\n",
       "      <th>1</th>\n",
       "      <td>EMP0000002</td>\n",
       "      <td>Julie Williams</td>\n",
       "      <td>Marketing</td>\n",
       "      <td>SEO Specialist</td>\n",
       "      <td>2018-03-02</td>\n",
       "      <td>2018</td>\n",
       "      <td>Anthonyside, Costa Rica</td>\n",
       "      <td>2</td>\n",
       "      <td>7</td>\n",
       "      <td>Active</td>\n",
       "      <td>On-site</td>\n",
       "      <td>847686</td>\n",
       "      <td>Costa Rica</td>\n",
       "    </tr>\n",
       "    <tr>\n",
       "      <th>2</th>\n",
       "      <td>EMP0000003</td>\n",
       "      <td>Alyssa Martinez</td>\n",
       "      <td>HR</td>\n",
       "      <td>HR Manager</td>\n",
       "      <td>2023-03-20</td>\n",
       "      <td>2023</td>\n",
       "      <td>Port Christinaport, Saudi Arabia</td>\n",
       "      <td>1</td>\n",
       "      <td>2</td>\n",
       "      <td>Active</td>\n",
       "      <td>On-site</td>\n",
       "      <td>1430084</td>\n",
       "      <td>Saudi Arabia</td>\n",
       "    </tr>\n",
       "    <tr>\n",
       "      <th>3</th>\n",
       "      <td>EMP0000004</td>\n",
       "      <td>Nicholas Valdez</td>\n",
       "      <td>IT</td>\n",
       "      <td>Software Engineer</td>\n",
       "      <td>2023-10-12</td>\n",
       "      <td>2023</td>\n",
       "      <td>Port Shelbychester, Antigua and Barbuda</td>\n",
       "      <td>1</td>\n",
       "      <td>1</td>\n",
       "      <td>Active</td>\n",
       "      <td>On-site</td>\n",
       "      <td>990689</td>\n",
       "      <td>Antigua and Barbuda</td>\n",
       "    </tr>\n",
       "    <tr>\n",
       "      <th>4</th>\n",
       "      <td>EMP0000005</td>\n",
       "      <td>Joel Hendricks</td>\n",
       "      <td>Operations</td>\n",
       "      <td>Logistics Coordinator</td>\n",
       "      <td>2024-12-09</td>\n",
       "      <td>2024</td>\n",
       "      <td>Lake Kimberly, Palestinian Territory</td>\n",
       "      <td>5</td>\n",
       "      <td>0</td>\n",
       "      <td>Active</td>\n",
       "      <td>On-site</td>\n",
       "      <td>535082</td>\n",
       "      <td>Palestinian Territory</td>\n",
       "    </tr>\n",
       "  </tbody>\n",
       "</table>\n",
       "</div>"
      ],
      "text/plain": [
       "  Employee_ID        Full_Name  Department              Job_Title  Hire_Date  \\\n",
       "0  EMP0000001    Joshua Nguyen          IT      Software Engineer 2011-08-10   \n",
       "1  EMP0000002   Julie Williams   Marketing         SEO Specialist 2018-03-02   \n",
       "2  EMP0000003  Alyssa Martinez          HR             HR Manager 2023-03-20   \n",
       "3  EMP0000004  Nicholas Valdez          IT      Software Engineer 2023-10-12   \n",
       "4  EMP0000005   Joel Hendricks  Operations  Logistics Coordinator 2024-12-09   \n",
       "\n",
       "   Hire_Year                                 Location  Performance_Rating  \\\n",
       "0       2011                       Isaacland, Denmark                   5   \n",
       "1       2018                  Anthonyside, Costa Rica                   2   \n",
       "2       2023         Port Christinaport, Saudi Arabia                   1   \n",
       "3       2023  Port Shelbychester, Antigua and Barbuda                   1   \n",
       "4       2024     Lake Kimberly, Palestinian Territory                   5   \n",
       "\n",
       "   Experience_Years    Status Work_Mode  Salary_INR                country  \n",
       "0                14  Resigned   On-site     1585363                Denmark  \n",
       "1                 7    Active   On-site      847686             Costa Rica  \n",
       "2                 2    Active   On-site     1430084           Saudi Arabia  \n",
       "3                 1    Active   On-site      990689    Antigua and Barbuda  \n",
       "4                 0    Active   On-site      535082  Palestinian Territory  "
      ]
     },
     "execution_count": 116,
     "metadata": {},
     "output_type": "execute_result"
    }
   ],
   "source": [
    "df.head()"
   ]
  },
  {
   "cell_type": "code",
   "execution_count": 117,
   "id": "b06ae1fc-7063-4219-86b1-da49cd78803d",
   "metadata": {},
   "outputs": [
    {
     "name": "stderr",
     "output_type": "stream",
     "text": [
      "C:\\Users\\umar\\AppData\\Local\\Temp\\ipykernel_23748\\3929051002.py:1: DeprecationWarning: DataFrameGroupBy.apply operated on the grouping columns. This behavior is deprecated, and in a future version of pandas the grouping columns will be excluded from the operation. Either pass `include_groups=False` to exclude the groupings or explicitly select the grouping columns after groupby to silence this warning.\n",
      "  top_10=df.groupby(\"Department\").apply(lambda x:x.nlargest(10,\"Salary_INR\"))\n"
     ]
    }
   ],
   "source": [
    "top_10=df.groupby(\"Department\").apply(lambda x:x.nlargest(10,\"Salary_INR\"))"
   ]
  },
  {
   "cell_type": "code",
   "execution_count": 119,
   "id": "41fa1a12-ae28-4681-b0ee-46aec11b78a2",
   "metadata": {},
   "outputs": [
    {
     "data": {
      "text/html": [
       "<div>\n",
       "<style scoped>\n",
       "    .dataframe tbody tr th:only-of-type {\n",
       "        vertical-align: middle;\n",
       "    }\n",
       "\n",
       "    .dataframe tbody tr th {\n",
       "        vertical-align: top;\n",
       "    }\n",
       "\n",
       "    .dataframe thead th {\n",
       "        text-align: right;\n",
       "    }\n",
       "</style>\n",
       "<table border=\"1\" class=\"dataframe\">\n",
       "  <thead>\n",
       "    <tr style=\"text-align: right;\">\n",
       "      <th></th>\n",
       "      <th></th>\n",
       "      <th>Employee_ID</th>\n",
       "      <th>Full_Name</th>\n",
       "      <th>Department</th>\n",
       "      <th>Job_Title</th>\n",
       "      <th>Hire_Date</th>\n",
       "      <th>Hire_Year</th>\n",
       "      <th>Location</th>\n",
       "      <th>Performance_Rating</th>\n",
       "      <th>Experience_Years</th>\n",
       "      <th>Status</th>\n",
       "      <th>Work_Mode</th>\n",
       "      <th>Salary_INR</th>\n",
       "      <th>country</th>\n",
       "    </tr>\n",
       "    <tr>\n",
       "      <th>Department</th>\n",
       "      <th></th>\n",
       "      <th></th>\n",
       "      <th></th>\n",
       "      <th></th>\n",
       "      <th></th>\n",
       "      <th></th>\n",
       "      <th></th>\n",
       "      <th></th>\n",
       "      <th></th>\n",
       "      <th></th>\n",
       "      <th></th>\n",
       "      <th></th>\n",
       "      <th></th>\n",
       "      <th></th>\n",
       "    </tr>\n",
       "  </thead>\n",
       "  <tbody>\n",
       "    <tr>\n",
       "      <th rowspan=\"10\" valign=\"top\">Finance</th>\n",
       "      <th>888712</th>\n",
       "      <td>EMP0888713</td>\n",
       "      <td>Christopher Sloan</td>\n",
       "      <td>Finance</td>\n",
       "      <td>Finance Manager</td>\n",
       "      <td>2011-07-19</td>\n",
       "      <td>2011</td>\n",
       "      <td>East Ashley, Portugal</td>\n",
       "      <td>1</td>\n",
       "      <td>14</td>\n",
       "      <td>Active</td>\n",
       "      <td>On-site</td>\n",
       "      <td>2499958</td>\n",
       "      <td>Portugal</td>\n",
       "    </tr>\n",
       "    <tr>\n",
       "      <th>695808</th>\n",
       "      <td>EMP0695809</td>\n",
       "      <td>Todd Rodgers</td>\n",
       "      <td>Finance</td>\n",
       "      <td>Finance Manager</td>\n",
       "      <td>2019-12-27</td>\n",
       "      <td>2019</td>\n",
       "      <td>North Taylor, Ghana</td>\n",
       "      <td>1</td>\n",
       "      <td>5</td>\n",
       "      <td>Active</td>\n",
       "      <td>On-site</td>\n",
       "      <td>2499929</td>\n",
       "      <td>Ghana</td>\n",
       "    </tr>\n",
       "    <tr>\n",
       "      <th>459273</th>\n",
       "      <td>EMP0459274</td>\n",
       "      <td>Angela Payne</td>\n",
       "      <td>Finance</td>\n",
       "      <td>Finance Manager</td>\n",
       "      <td>2021-08-12</td>\n",
       "      <td>2021</td>\n",
       "      <td>South Ravenport, Isle of Man</td>\n",
       "      <td>5</td>\n",
       "      <td>4</td>\n",
       "      <td>Active</td>\n",
       "      <td>Remote</td>\n",
       "      <td>2499925</td>\n",
       "      <td>Isle of Man</td>\n",
       "    </tr>\n",
       "    <tr>\n",
       "      <th>750893</th>\n",
       "      <td>EMP0750894</td>\n",
       "      <td>Nina Lara</td>\n",
       "      <td>Finance</td>\n",
       "      <td>Finance Manager</td>\n",
       "      <td>2021-10-19</td>\n",
       "      <td>2021</td>\n",
       "      <td>North Christopher, American Samoa</td>\n",
       "      <td>4</td>\n",
       "      <td>3</td>\n",
       "      <td>Active</td>\n",
       "      <td>On-site</td>\n",
       "      <td>2499813</td>\n",
       "      <td>American Samoa</td>\n",
       "    </tr>\n",
       "    <tr>\n",
       "      <th>780290</th>\n",
       "      <td>EMP0780291</td>\n",
       "      <td>Brittany Thompson</td>\n",
       "      <td>Finance</td>\n",
       "      <td>Finance Manager</td>\n",
       "      <td>2021-07-23</td>\n",
       "      <td>2021</td>\n",
       "      <td>East Melissaside, Martinique</td>\n",
       "      <td>1</td>\n",
       "      <td>4</td>\n",
       "      <td>Active</td>\n",
       "      <td>On-site</td>\n",
       "      <td>2499786</td>\n",
       "      <td>Martinique</td>\n",
       "    </tr>\n",
       "    <tr>\n",
       "      <th>1316795</th>\n",
       "      <td>EMP1316796</td>\n",
       "      <td>Larry Wilson</td>\n",
       "      <td>Finance</td>\n",
       "      <td>Finance Manager</td>\n",
       "      <td>2015-01-30</td>\n",
       "      <td>2015</td>\n",
       "      <td>Lopezmouth, Philippines</td>\n",
       "      <td>5</td>\n",
       "      <td>10</td>\n",
       "      <td>Active</td>\n",
       "      <td>On-site</td>\n",
       "      <td>2499751</td>\n",
       "      <td>Philippines</td>\n",
       "    </tr>\n",
       "    <tr>\n",
       "      <th>737507</th>\n",
       "      <td>EMP0737508</td>\n",
       "      <td>Alexis Schroeder</td>\n",
       "      <td>Finance</td>\n",
       "      <td>Finance Manager</td>\n",
       "      <td>2024-10-28</td>\n",
       "      <td>2024</td>\n",
       "      <td>Teresamouth, Cameroon</td>\n",
       "      <td>4</td>\n",
       "      <td>0</td>\n",
       "      <td>Resigned</td>\n",
       "      <td>Remote</td>\n",
       "      <td>2499732</td>\n",
       "      <td>Cameroon</td>\n",
       "    </tr>\n",
       "    <tr>\n",
       "      <th>781352</th>\n",
       "      <td>EMP0781353</td>\n",
       "      <td>Sarah Jones</td>\n",
       "      <td>Finance</td>\n",
       "      <td>Finance Manager</td>\n",
       "      <td>2018-04-02</td>\n",
       "      <td>2018</td>\n",
       "      <td>South Jared, Ghana</td>\n",
       "      <td>5</td>\n",
       "      <td>7</td>\n",
       "      <td>Active</td>\n",
       "      <td>Remote</td>\n",
       "      <td>2499674</td>\n",
       "      <td>Ghana</td>\n",
       "    </tr>\n",
       "    <tr>\n",
       "      <th>803785</th>\n",
       "      <td>EMP0803786</td>\n",
       "      <td>Jose Anderson</td>\n",
       "      <td>Finance</td>\n",
       "      <td>Finance Manager</td>\n",
       "      <td>2020-11-17</td>\n",
       "      <td>2020</td>\n",
       "      <td>Bryantown, Russian Federation</td>\n",
       "      <td>4</td>\n",
       "      <td>4</td>\n",
       "      <td>Active</td>\n",
       "      <td>On-site</td>\n",
       "      <td>2499629</td>\n",
       "      <td>Russian Federation</td>\n",
       "    </tr>\n",
       "    <tr>\n",
       "      <th>905337</th>\n",
       "      <td>EMP0905338</td>\n",
       "      <td>Jennifer Dominguez</td>\n",
       "      <td>Finance</td>\n",
       "      <td>Finance Manager</td>\n",
       "      <td>2018-03-22</td>\n",
       "      <td>2018</td>\n",
       "      <td>Port Jerryfort, Japan</td>\n",
       "      <td>2</td>\n",
       "      <td>7</td>\n",
       "      <td>Active</td>\n",
       "      <td>Remote</td>\n",
       "      <td>2499601</td>\n",
       "      <td>Japan</td>\n",
       "    </tr>\n",
       "    <tr>\n",
       "      <th rowspan=\"10\" valign=\"top\">HR</th>\n",
       "      <th>223845</th>\n",
       "      <td>EMP0223846</td>\n",
       "      <td>Ethan Jones</td>\n",
       "      <td>HR</td>\n",
       "      <td>HR Manager</td>\n",
       "      <td>2021-03-09</td>\n",
       "      <td>2021</td>\n",
       "      <td>Port Ashley, Bouvet Island (Bouvetoya)</td>\n",
       "      <td>2</td>\n",
       "      <td>4</td>\n",
       "      <td>Active</td>\n",
       "      <td>Remote</td>\n",
       "      <td>1799839</td>\n",
       "      <td>Bouvet Island (Bouvetoya)</td>\n",
       "    </tr>\n",
       "    <tr>\n",
       "      <th>1068270</th>\n",
       "      <td>EMP1068271</td>\n",
       "      <td>Austin Hall</td>\n",
       "      <td>HR</td>\n",
       "      <td>HR Manager</td>\n",
       "      <td>2017-10-04</td>\n",
       "      <td>2017</td>\n",
       "      <td>Jenniferhaven, Czech Republic</td>\n",
       "      <td>2</td>\n",
       "      <td>7</td>\n",
       "      <td>Active</td>\n",
       "      <td>Remote</td>\n",
       "      <td>1799791</td>\n",
       "      <td>Czech Republic</td>\n",
       "    </tr>\n",
       "    <tr>\n",
       "      <th>1541972</th>\n",
       "      <td>EMP1541973</td>\n",
       "      <td>Daniel Wilson</td>\n",
       "      <td>HR</td>\n",
       "      <td>HR Manager</td>\n",
       "      <td>2025-04-18</td>\n",
       "      <td>2025</td>\n",
       "      <td>East Nicholas, El Salvador</td>\n",
       "      <td>5</td>\n",
       "      <td>0</td>\n",
       "      <td>Active</td>\n",
       "      <td>Remote</td>\n",
       "      <td>1799769</td>\n",
       "      <td>El Salvador</td>\n",
       "    </tr>\n",
       "    <tr>\n",
       "      <th>1861401</th>\n",
       "      <td>EMP1861402</td>\n",
       "      <td>Amanda Everett</td>\n",
       "      <td>HR</td>\n",
       "      <td>HR Manager</td>\n",
       "      <td>2010-09-29</td>\n",
       "      <td>2010</td>\n",
       "      <td>East Kayla, Brazil</td>\n",
       "      <td>2</td>\n",
       "      <td>14</td>\n",
       "      <td>Active</td>\n",
       "      <td>Remote</td>\n",
       "      <td>1799759</td>\n",
       "      <td>Brazil</td>\n",
       "    </tr>\n",
       "    <tr>\n",
       "      <th>553718</th>\n",
       "      <td>EMP0553719</td>\n",
       "      <td>Michelle Snyder</td>\n",
       "      <td>HR</td>\n",
       "      <td>HR Manager</td>\n",
       "      <td>2018-04-06</td>\n",
       "      <td>2018</td>\n",
       "      <td>Patrickberg, Syrian Arab Republic</td>\n",
       "      <td>2</td>\n",
       "      <td>7</td>\n",
       "      <td>Active</td>\n",
       "      <td>On-site</td>\n",
       "      <td>1799728</td>\n",
       "      <td>Syrian Arab Republic</td>\n",
       "    </tr>\n",
       "    <tr>\n",
       "      <th>674999</th>\n",
       "      <td>EMP0675000</td>\n",
       "      <td>Andre Velasquez</td>\n",
       "      <td>HR</td>\n",
       "      <td>HR Manager</td>\n",
       "      <td>2021-08-03</td>\n",
       "      <td>2021</td>\n",
       "      <td>North Louisstad, Cyprus</td>\n",
       "      <td>1</td>\n",
       "      <td>4</td>\n",
       "      <td>Active</td>\n",
       "      <td>Remote</td>\n",
       "      <td>1799705</td>\n",
       "      <td>Cyprus</td>\n",
       "    </tr>\n",
       "    <tr>\n",
       "      <th>230232</th>\n",
       "      <td>EMP0230233</td>\n",
       "      <td>Carrie Davis</td>\n",
       "      <td>HR</td>\n",
       "      <td>HR Manager</td>\n",
       "      <td>2025-05-30</td>\n",
       "      <td>2025</td>\n",
       "      <td>Mauricestad, North Macedonia</td>\n",
       "      <td>5</td>\n",
       "      <td>0</td>\n",
       "      <td>Terminated</td>\n",
       "      <td>On-site</td>\n",
       "      <td>1799625</td>\n",
       "      <td>North Macedonia</td>\n",
       "    </tr>\n",
       "    <tr>\n",
       "      <th>1489953</th>\n",
       "      <td>EMP1489954</td>\n",
       "      <td>Gregory Pearson</td>\n",
       "      <td>HR</td>\n",
       "      <td>HR Manager</td>\n",
       "      <td>2022-03-06</td>\n",
       "      <td>2022</td>\n",
       "      <td>New Amystad, Croatia</td>\n",
       "      <td>2</td>\n",
       "      <td>3</td>\n",
       "      <td>Active</td>\n",
       "      <td>On-site</td>\n",
       "      <td>1799598</td>\n",
       "      <td>Croatia</td>\n",
       "    </tr>\n",
       "    <tr>\n",
       "      <th>1863268</th>\n",
       "      <td>EMP1863269</td>\n",
       "      <td>Dr. Shawn Gibson</td>\n",
       "      <td>HR</td>\n",
       "      <td>HR Manager</td>\n",
       "      <td>2022-05-13</td>\n",
       "      <td>2022</td>\n",
       "      <td>Port Ashleyside, British Virgin Islands</td>\n",
       "      <td>5</td>\n",
       "      <td>3</td>\n",
       "      <td>Active</td>\n",
       "      <td>On-site</td>\n",
       "      <td>1799559</td>\n",
       "      <td>British Virgin Islands</td>\n",
       "    </tr>\n",
       "    <tr>\n",
       "      <th>1708267</th>\n",
       "      <td>EMP1708268</td>\n",
       "      <td>Anna Munoz</td>\n",
       "      <td>HR</td>\n",
       "      <td>HR Manager</td>\n",
       "      <td>2019-08-06</td>\n",
       "      <td>2019</td>\n",
       "      <td>Lake Ericaville, Cook Islands</td>\n",
       "      <td>4</td>\n",
       "      <td>6</td>\n",
       "      <td>Active</td>\n",
       "      <td>Remote</td>\n",
       "      <td>1799535</td>\n",
       "      <td>Cook Islands</td>\n",
       "    </tr>\n",
       "    <tr>\n",
       "      <th rowspan=\"10\" valign=\"top\">IT</th>\n",
       "      <th>1697605</th>\n",
       "      <td>EMP1697606</td>\n",
       "      <td>Kathryn Owens</td>\n",
       "      <td>IT</td>\n",
       "      <td>IT Manager</td>\n",
       "      <td>2018-02-22</td>\n",
       "      <td>2018</td>\n",
       "      <td>Adamsborough, Greenland</td>\n",
       "      <td>5</td>\n",
       "      <td>7</td>\n",
       "      <td>Active</td>\n",
       "      <td>Remote</td>\n",
       "      <td>2999976</td>\n",
       "      <td>Greenland</td>\n",
       "    </tr>\n",
       "    <tr>\n",
       "      <th>1284141</th>\n",
       "      <td>EMP1284142</td>\n",
       "      <td>Robert Bowman</td>\n",
       "      <td>IT</td>\n",
       "      <td>IT Manager</td>\n",
       "      <td>2010-10-14</td>\n",
       "      <td>2010</td>\n",
       "      <td>Lake Brianna, Greece</td>\n",
       "      <td>2</td>\n",
       "      <td>14</td>\n",
       "      <td>Terminated</td>\n",
       "      <td>Remote</td>\n",
       "      <td>2999973</td>\n",
       "      <td>Greece</td>\n",
       "    </tr>\n",
       "    <tr>\n",
       "      <th>1912378</th>\n",
       "      <td>EMP1912379</td>\n",
       "      <td>Christina Delgado</td>\n",
       "      <td>IT</td>\n",
       "      <td>IT Manager</td>\n",
       "      <td>2018-06-24</td>\n",
       "      <td>2018</td>\n",
       "      <td>Lake Jesusview, Chile</td>\n",
       "      <td>5</td>\n",
       "      <td>7</td>\n",
       "      <td>Retired</td>\n",
       "      <td>On-site</td>\n",
       "      <td>2999944</td>\n",
       "      <td>Chile</td>\n",
       "    </tr>\n",
       "    <tr>\n",
       "      <th>1904593</th>\n",
       "      <td>EMP1904594</td>\n",
       "      <td>Donald Cohen</td>\n",
       "      <td>IT</td>\n",
       "      <td>IT Manager</td>\n",
       "      <td>2017-11-21</td>\n",
       "      <td>2017</td>\n",
       "      <td>North Michaelchester, Latvia</td>\n",
       "      <td>4</td>\n",
       "      <td>7</td>\n",
       "      <td>Active</td>\n",
       "      <td>Remote</td>\n",
       "      <td>2999906</td>\n",
       "      <td>Latvia</td>\n",
       "    </tr>\n",
       "    <tr>\n",
       "      <th>645146</th>\n",
       "      <td>EMP0645147</td>\n",
       "      <td>Brandon Rodriguez</td>\n",
       "      <td>IT</td>\n",
       "      <td>IT Manager</td>\n",
       "      <td>2016-09-11</td>\n",
       "      <td>2016</td>\n",
       "      <td>Greenfort, Liechtenstein</td>\n",
       "      <td>2</td>\n",
       "      <td>8</td>\n",
       "      <td>Retired</td>\n",
       "      <td>Remote</td>\n",
       "      <td>2999889</td>\n",
       "      <td>Liechtenstein</td>\n",
       "    </tr>\n",
       "    <tr>\n",
       "      <th>766571</th>\n",
       "      <td>EMP0766572</td>\n",
       "      <td>Dr. David Mitchell</td>\n",
       "      <td>IT</td>\n",
       "      <td>IT Manager</td>\n",
       "      <td>2019-10-07</td>\n",
       "      <td>2019</td>\n",
       "      <td>Lynnport, Mayotte</td>\n",
       "      <td>2</td>\n",
       "      <td>5</td>\n",
       "      <td>Active</td>\n",
       "      <td>On-site</td>\n",
       "      <td>2999881</td>\n",
       "      <td>Mayotte</td>\n",
       "    </tr>\n",
       "    <tr>\n",
       "      <th>1257897</th>\n",
       "      <td>EMP1257898</td>\n",
       "      <td>Cassandra Morales</td>\n",
       "      <td>IT</td>\n",
       "      <td>IT Manager</td>\n",
       "      <td>2023-08-09</td>\n",
       "      <td>2023</td>\n",
       "      <td>Port Catherinehaven, Slovenia</td>\n",
       "      <td>4</td>\n",
       "      <td>2</td>\n",
       "      <td>Active</td>\n",
       "      <td>On-site</td>\n",
       "      <td>2999831</td>\n",
       "      <td>Slovenia</td>\n",
       "    </tr>\n",
       "    <tr>\n",
       "      <th>1734354</th>\n",
       "      <td>EMP1734355</td>\n",
       "      <td>Debra Rivera</td>\n",
       "      <td>IT</td>\n",
       "      <td>IT Manager</td>\n",
       "      <td>2022-06-13</td>\n",
       "      <td>2022</td>\n",
       "      <td>Reidfort, North Macedonia</td>\n",
       "      <td>2</td>\n",
       "      <td>3</td>\n",
       "      <td>Active</td>\n",
       "      <td>On-site</td>\n",
       "      <td>2999811</td>\n",
       "      <td>North Macedonia</td>\n",
       "    </tr>\n",
       "    <tr>\n",
       "      <th>369339</th>\n",
       "      <td>EMP0369340</td>\n",
       "      <td>Douglas Mann</td>\n",
       "      <td>IT</td>\n",
       "      <td>IT Manager</td>\n",
       "      <td>2021-12-22</td>\n",
       "      <td>2021</td>\n",
       "      <td>New Jodichester, Korea</td>\n",
       "      <td>1</td>\n",
       "      <td>3</td>\n",
       "      <td>Active</td>\n",
       "      <td>On-site</td>\n",
       "      <td>2999797</td>\n",
       "      <td>Korea</td>\n",
       "    </tr>\n",
       "    <tr>\n",
       "      <th>1645827</th>\n",
       "      <td>EMP1645828</td>\n",
       "      <td>Jennifer Reynolds</td>\n",
       "      <td>IT</td>\n",
       "      <td>IT Manager</td>\n",
       "      <td>2021-02-05</td>\n",
       "      <td>2021</td>\n",
       "      <td>New Lorimouth, Sri Lanka</td>\n",
       "      <td>2</td>\n",
       "      <td>4</td>\n",
       "      <td>Active</td>\n",
       "      <td>Remote</td>\n",
       "      <td>2999751</td>\n",
       "      <td>Sri Lanka</td>\n",
       "    </tr>\n",
       "  </tbody>\n",
       "</table>\n",
       "</div>"
      ],
      "text/plain": [
       "                   Employee_ID           Full_Name Department  \\\n",
       "Department                                                      \n",
       "Finance    888712   EMP0888713   Christopher Sloan    Finance   \n",
       "           695808   EMP0695809        Todd Rodgers    Finance   \n",
       "           459273   EMP0459274        Angela Payne    Finance   \n",
       "           750893   EMP0750894           Nina Lara    Finance   \n",
       "           780290   EMP0780291   Brittany Thompson    Finance   \n",
       "           1316795  EMP1316796        Larry Wilson    Finance   \n",
       "           737507   EMP0737508    Alexis Schroeder    Finance   \n",
       "           781352   EMP0781353         Sarah Jones    Finance   \n",
       "           803785   EMP0803786       Jose Anderson    Finance   \n",
       "           905337   EMP0905338  Jennifer Dominguez    Finance   \n",
       "HR         223845   EMP0223846         Ethan Jones         HR   \n",
       "           1068270  EMP1068271         Austin Hall         HR   \n",
       "           1541972  EMP1541973       Daniel Wilson         HR   \n",
       "           1861401  EMP1861402      Amanda Everett         HR   \n",
       "           553718   EMP0553719     Michelle Snyder         HR   \n",
       "           674999   EMP0675000     Andre Velasquez         HR   \n",
       "           230232   EMP0230233        Carrie Davis         HR   \n",
       "           1489953  EMP1489954     Gregory Pearson         HR   \n",
       "           1863268  EMP1863269    Dr. Shawn Gibson         HR   \n",
       "           1708267  EMP1708268          Anna Munoz         HR   \n",
       "IT         1697605  EMP1697606       Kathryn Owens         IT   \n",
       "           1284141  EMP1284142       Robert Bowman         IT   \n",
       "           1912378  EMP1912379   Christina Delgado         IT   \n",
       "           1904593  EMP1904594        Donald Cohen         IT   \n",
       "           645146   EMP0645147   Brandon Rodriguez         IT   \n",
       "           766571   EMP0766572  Dr. David Mitchell         IT   \n",
       "           1257897  EMP1257898   Cassandra Morales         IT   \n",
       "           1734354  EMP1734355        Debra Rivera         IT   \n",
       "           369339   EMP0369340        Douglas Mann         IT   \n",
       "           1645827  EMP1645828   Jennifer Reynolds         IT   \n",
       "\n",
       "                          Job_Title  Hire_Date  Hire_Year  \\\n",
       "Department                                                  \n",
       "Finance    888712   Finance Manager 2011-07-19       2011   \n",
       "           695808   Finance Manager 2019-12-27       2019   \n",
       "           459273   Finance Manager 2021-08-12       2021   \n",
       "           750893   Finance Manager 2021-10-19       2021   \n",
       "           780290   Finance Manager 2021-07-23       2021   \n",
       "           1316795  Finance Manager 2015-01-30       2015   \n",
       "           737507   Finance Manager 2024-10-28       2024   \n",
       "           781352   Finance Manager 2018-04-02       2018   \n",
       "           803785   Finance Manager 2020-11-17       2020   \n",
       "           905337   Finance Manager 2018-03-22       2018   \n",
       "HR         223845        HR Manager 2021-03-09       2021   \n",
       "           1068270       HR Manager 2017-10-04       2017   \n",
       "           1541972       HR Manager 2025-04-18       2025   \n",
       "           1861401       HR Manager 2010-09-29       2010   \n",
       "           553718        HR Manager 2018-04-06       2018   \n",
       "           674999        HR Manager 2021-08-03       2021   \n",
       "           230232        HR Manager 2025-05-30       2025   \n",
       "           1489953       HR Manager 2022-03-06       2022   \n",
       "           1863268       HR Manager 2022-05-13       2022   \n",
       "           1708267       HR Manager 2019-08-06       2019   \n",
       "IT         1697605       IT Manager 2018-02-22       2018   \n",
       "           1284141       IT Manager 2010-10-14       2010   \n",
       "           1912378       IT Manager 2018-06-24       2018   \n",
       "           1904593       IT Manager 2017-11-21       2017   \n",
       "           645146        IT Manager 2016-09-11       2016   \n",
       "           766571        IT Manager 2019-10-07       2019   \n",
       "           1257897       IT Manager 2023-08-09       2023   \n",
       "           1734354       IT Manager 2022-06-13       2022   \n",
       "           369339        IT Manager 2021-12-22       2021   \n",
       "           1645827       IT Manager 2021-02-05       2021   \n",
       "\n",
       "                                                   Location  \\\n",
       "Department                                                    \n",
       "Finance    888712                     East Ashley, Portugal   \n",
       "           695808                       North Taylor, Ghana   \n",
       "           459273              South Ravenport, Isle of Man   \n",
       "           750893         North Christopher, American Samoa   \n",
       "           780290              East Melissaside, Martinique   \n",
       "           1316795                  Lopezmouth, Philippines   \n",
       "           737507                     Teresamouth, Cameroon   \n",
       "           781352                        South Jared, Ghana   \n",
       "           803785             Bryantown, Russian Federation   \n",
       "           905337                     Port Jerryfort, Japan   \n",
       "HR         223845    Port Ashley, Bouvet Island (Bouvetoya)   \n",
       "           1068270            Jenniferhaven, Czech Republic   \n",
       "           1541972               East Nicholas, El Salvador   \n",
       "           1861401                       East Kayla, Brazil   \n",
       "           553718         Patrickberg, Syrian Arab Republic   \n",
       "           674999                   North Louisstad, Cyprus   \n",
       "           230232              Mauricestad, North Macedonia   \n",
       "           1489953                     New Amystad, Croatia   \n",
       "           1863268  Port Ashleyside, British Virgin Islands   \n",
       "           1708267            Lake Ericaville, Cook Islands   \n",
       "IT         1697605                  Adamsborough, Greenland   \n",
       "           1284141                     Lake Brianna, Greece   \n",
       "           1912378                    Lake Jesusview, Chile   \n",
       "           1904593             North Michaelchester, Latvia   \n",
       "           645146                  Greenfort, Liechtenstein   \n",
       "           766571                         Lynnport, Mayotte   \n",
       "           1257897            Port Catherinehaven, Slovenia   \n",
       "           1734354                Reidfort, North Macedonia   \n",
       "           369339                    New Jodichester, Korea   \n",
       "           1645827                 New Lorimouth, Sri Lanka   \n",
       "\n",
       "                    Performance_Rating  Experience_Years      Status  \\\n",
       "Department                                                             \n",
       "Finance    888712                    1                14      Active   \n",
       "           695808                    1                 5      Active   \n",
       "           459273                    5                 4      Active   \n",
       "           750893                    4                 3      Active   \n",
       "           780290                    1                 4      Active   \n",
       "           1316795                   5                10      Active   \n",
       "           737507                    4                 0    Resigned   \n",
       "           781352                    5                 7      Active   \n",
       "           803785                    4                 4      Active   \n",
       "           905337                    2                 7      Active   \n",
       "HR         223845                    2                 4      Active   \n",
       "           1068270                   2                 7      Active   \n",
       "           1541972                   5                 0      Active   \n",
       "           1861401                   2                14      Active   \n",
       "           553718                    2                 7      Active   \n",
       "           674999                    1                 4      Active   \n",
       "           230232                    5                 0  Terminated   \n",
       "           1489953                   2                 3      Active   \n",
       "           1863268                   5                 3      Active   \n",
       "           1708267                   4                 6      Active   \n",
       "IT         1697605                   5                 7      Active   \n",
       "           1284141                   2                14  Terminated   \n",
       "           1912378                   5                 7     Retired   \n",
       "           1904593                   4                 7      Active   \n",
       "           645146                    2                 8     Retired   \n",
       "           766571                    2                 5      Active   \n",
       "           1257897                   4                 2      Active   \n",
       "           1734354                   2                 3      Active   \n",
       "           369339                    1                 3      Active   \n",
       "           1645827                   2                 4      Active   \n",
       "\n",
       "                   Work_Mode  Salary_INR                    country  \n",
       "Department                                                           \n",
       "Finance    888712    On-site     2499958                   Portugal  \n",
       "           695808    On-site     2499929                      Ghana  \n",
       "           459273     Remote     2499925                Isle of Man  \n",
       "           750893    On-site     2499813             American Samoa  \n",
       "           780290    On-site     2499786                 Martinique  \n",
       "           1316795   On-site     2499751                Philippines  \n",
       "           737507     Remote     2499732                   Cameroon  \n",
       "           781352     Remote     2499674                      Ghana  \n",
       "           803785    On-site     2499629         Russian Federation  \n",
       "           905337     Remote     2499601                      Japan  \n",
       "HR         223845     Remote     1799839  Bouvet Island (Bouvetoya)  \n",
       "           1068270    Remote     1799791             Czech Republic  \n",
       "           1541972    Remote     1799769                El Salvador  \n",
       "           1861401    Remote     1799759                     Brazil  \n",
       "           553718    On-site     1799728       Syrian Arab Republic  \n",
       "           674999     Remote     1799705                     Cyprus  \n",
       "           230232    On-site     1799625            North Macedonia  \n",
       "           1489953   On-site     1799598                    Croatia  \n",
       "           1863268   On-site     1799559     British Virgin Islands  \n",
       "           1708267    Remote     1799535               Cook Islands  \n",
       "IT         1697605    Remote     2999976                  Greenland  \n",
       "           1284141    Remote     2999973                     Greece  \n",
       "           1912378   On-site     2999944                      Chile  \n",
       "           1904593    Remote     2999906                     Latvia  \n",
       "           645146     Remote     2999889              Liechtenstein  \n",
       "           766571    On-site     2999881                    Mayotte  \n",
       "           1257897   On-site     2999831                   Slovenia  \n",
       "           1734354   On-site     2999811            North Macedonia  \n",
       "           369339    On-site     2999797                      Korea  \n",
       "           1645827    Remote     2999751                  Sri Lanka  "
      ]
     },
     "execution_count": 119,
     "metadata": {},
     "output_type": "execute_result"
    }
   ],
   "source": [
    "top_10.head(30)"
   ]
  },
  {
   "cell_type": "markdown",
   "id": "0d8fb6b4-8fe1-45f0-94fc-52a84cbaf9ee",
   "metadata": {},
   "source": [
    "## Q-15) Identify dept with highest attrition rate (Resigned %)"
   ]
  },
  {
   "cell_type": "code",
   "execution_count": 120,
   "id": "932ecc55-8ab5-44ee-aabd-06ec658eef37",
   "metadata": {},
   "outputs": [
    {
     "data": {
      "text/html": [
       "<div>\n",
       "<style scoped>\n",
       "    .dataframe tbody tr th:only-of-type {\n",
       "        vertical-align: middle;\n",
       "    }\n",
       "\n",
       "    .dataframe tbody tr th {\n",
       "        vertical-align: top;\n",
       "    }\n",
       "\n",
       "    .dataframe thead th {\n",
       "        text-align: right;\n",
       "    }\n",
       "</style>\n",
       "<table border=\"1\" class=\"dataframe\">\n",
       "  <thead>\n",
       "    <tr style=\"text-align: right;\">\n",
       "      <th></th>\n",
       "      <th>Employee_ID</th>\n",
       "      <th>Full_Name</th>\n",
       "      <th>Department</th>\n",
       "      <th>Job_Title</th>\n",
       "      <th>Hire_Date</th>\n",
       "      <th>Hire_Year</th>\n",
       "      <th>Location</th>\n",
       "      <th>Performance_Rating</th>\n",
       "      <th>Experience_Years</th>\n",
       "      <th>Status</th>\n",
       "      <th>Work_Mode</th>\n",
       "      <th>Salary_INR</th>\n",
       "      <th>country</th>\n",
       "    </tr>\n",
       "  </thead>\n",
       "  <tbody>\n",
       "    <tr>\n",
       "      <th>240253</th>\n",
       "      <td>EMP0240254</td>\n",
       "      <td>Dean Scott</td>\n",
       "      <td>HR</td>\n",
       "      <td>Talent Acquisition Specialist</td>\n",
       "      <td>2015-08-23</td>\n",
       "      <td>2015</td>\n",
       "      <td>East Austin, Kiribati</td>\n",
       "      <td>3</td>\n",
       "      <td>9</td>\n",
       "      <td>Active</td>\n",
       "      <td>Remote</td>\n",
       "      <td>542912</td>\n",
       "      <td>Kiribati</td>\n",
       "    </tr>\n",
       "    <tr>\n",
       "      <th>435089</th>\n",
       "      <td>EMP0435090</td>\n",
       "      <td>Rodney Horn</td>\n",
       "      <td>Marketing</td>\n",
       "      <td>SEO Specialist</td>\n",
       "      <td>2018-07-19</td>\n",
       "      <td>2018</td>\n",
       "      <td>Lancemouth, Honduras</td>\n",
       "      <td>4</td>\n",
       "      <td>7</td>\n",
       "      <td>Active</td>\n",
       "      <td>Remote</td>\n",
       "      <td>912994</td>\n",
       "      <td>Honduras</td>\n",
       "    </tr>\n",
       "  </tbody>\n",
       "</table>\n",
       "</div>"
      ],
      "text/plain": [
       "       Employee_ID    Full_Name Department                      Job_Title  \\\n",
       "240253  EMP0240254   Dean Scott         HR  Talent Acquisition Specialist   \n",
       "435089  EMP0435090  Rodney Horn  Marketing                 SEO Specialist   \n",
       "\n",
       "        Hire_Date  Hire_Year               Location  Performance_Rating  \\\n",
       "240253 2015-08-23       2015  East Austin, Kiribati                   3   \n",
       "435089 2018-07-19       2018   Lancemouth, Honduras                   4   \n",
       "\n",
       "        Experience_Years  Status Work_Mode  Salary_INR   country  \n",
       "240253                 9  Active    Remote      542912  Kiribati  \n",
       "435089                 7  Active    Remote      912994  Honduras  "
      ]
     },
     "execution_count": 120,
     "metadata": {},
     "output_type": "execute_result"
    }
   ],
   "source": [
    "df.sample(2)"
   ]
  },
  {
   "cell_type": "code",
   "execution_count": null,
   "id": "7ca2a683-a832-4c90-b4a7-d9bf361b90d3",
   "metadata": {},
   "outputs": [],
   "source": []
  },
  {
   "cell_type": "code",
   "execution_count": null,
   "id": "4857f1ac-d8f3-4ef9-b921-558e93f25db1",
   "metadata": {},
   "outputs": [],
   "source": []
  },
  {
   "cell_type": "code",
   "execution_count": null,
   "id": "f298d416-1c9c-46ea-802a-47d9e43dcb77",
   "metadata": {},
   "outputs": [],
   "source": []
  },
  {
   "cell_type": "code",
   "execution_count": null,
   "id": "c7ca86fb-d24d-4455-b244-90ab71c59841",
   "metadata": {},
   "outputs": [],
   "source": []
  },
  {
   "cell_type": "code",
   "execution_count": null,
   "id": "1a853705-7895-4522-9f77-63ac3e9e85f6",
   "metadata": {},
   "outputs": [],
   "source": []
  },
  {
   "cell_type": "code",
   "execution_count": null,
   "id": "6ebd2e62-3925-42f9-b4b4-654b4025c303",
   "metadata": {},
   "outputs": [],
   "source": []
  }
 ],
 "metadata": {
  "kernelspec": {
   "display_name": "Python 3 (ipykernel)",
   "language": "python",
   "name": "python3"
  },
  "language_info": {
   "codemirror_mode": {
    "name": "ipython",
    "version": 3
   },
   "file_extension": ".py",
   "mimetype": "text/x-python",
   "name": "python",
   "nbconvert_exporter": "python",
   "pygments_lexer": "ipython3",
   "version": "3.13.1"
  }
 },
 "nbformat": 4,
 "nbformat_minor": 5
}
